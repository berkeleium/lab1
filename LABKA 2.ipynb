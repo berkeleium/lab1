{
 "cells": [
  {
   "cell_type": "markdown",
   "id": "95c529f5-4b22-44e1-8cd0-93b1a08fe7dc",
   "metadata": {},
   "source": [
    "Python Booleans"
   ]
  },
  {
   "cell_type": "code",
   "execution_count": 102,
   "id": "2a97140c-67ac-4e16-80a4-e45f7bf7b053",
   "metadata": {},
   "outputs": [
    {
     "name": "stdout",
     "output_type": "stream",
     "text": [
      "True\n",
      "False\n",
      "False\n"
     ]
    }
   ],
   "source": [
    "print(15 > 12)\n",
    "print(15 == 12)\n",
    "print(15 < 12)"
   ]
  },
  {
   "cell_type": "code",
   "execution_count": 104,
   "id": "802f3e5c-6adf-47e8-988c-b2bef6b0ccf6",
   "metadata": {},
   "outputs": [
    {
     "name": "stdout",
     "output_type": "stream",
     "text": [
      "b is not greater than a\n"
     ]
    }
   ],
   "source": [
    "a = 49\n",
    "b = 22\n",
    "\n",
    "if b > a:\n",
    "  print(\"b is greater than a\")\n",
    "else:\n",
    "  print(\"b is not greater than a\")"
   ]
  },
  {
   "cell_type": "code",
   "execution_count": 106,
   "id": "2b5a93a2-554c-48ab-9a22-3da13e169fc3",
   "metadata": {},
   "outputs": [
    {
     "name": "stdout",
     "output_type": "stream",
     "text": [
      "True\n",
      "True\n"
     ]
    }
   ],
   "source": [
    "#The bool() function allows you to evaluate any value, and give you True or False in return\n",
    "print(bool(\"HAHA YOU THINK IT IS FUNNY?\"))\n",
    "print(bool(1))"
   ]
  },
  {
   "cell_type": "code",
   "execution_count": 108,
   "id": "1aca348e-ac47-4a32-855d-b318187368bb",
   "metadata": {},
   "outputs": [
    {
     "name": "stdout",
     "output_type": "stream",
     "text": [
      "True\n",
      "True\n"
     ]
    }
   ],
   "source": [
    "x = \"top\"\n",
    "y = 14\n",
    "\n",
    "print(bool(x))\n",
    "print(bool(y))"
   ]
  },
  {
   "cell_type": "code",
   "execution_count": 110,
   "id": "4fb9723b-444c-447a-b6c0-9ed7dd3e863a",
   "metadata": {},
   "outputs": [
    {
     "data": {
      "text/plain": [
       "True"
      ]
     },
     "execution_count": 110,
     "metadata": {},
     "output_type": "execute_result"
    }
   ],
   "source": [
    "#Almost any value is evaluated to True if it has some sort of content.\n",
    "#Any string is True, except empty strings.\n",
    "#Any number is True, except 0.\n",
    "#Any list, tuple, set, and dictionary are True, except empty ones.\n",
    "bool(\"abcdsadsada\")\n",
    "bool(123456521)\n",
    "bool([\"1st\", \"2nd\", \"3rd\"])"
   ]
  },
  {
   "cell_type": "code",
   "execution_count": 112,
   "id": "1d5b7348-798f-40ca-b9c1-95588009efeb",
   "metadata": {},
   "outputs": [
    {
     "data": {
      "text/plain": [
       "False"
      ]
     },
     "execution_count": 112,
     "metadata": {},
     "output_type": "execute_result"
    }
   ],
   "source": [
    "#In fact, there are not many values that evaluate to False, except empty values, such as (), [], {}, \"\", the number 0, \n",
    "#and the value None. And of course the value False evaluates to False.\n",
    "bool(False)\n",
    "bool(None)\n",
    "bool(0)\n",
    "bool(\"\")\n",
    "bool(())\n",
    "bool([])\n",
    "bool({})"
   ]
  },
  {
   "cell_type": "code",
   "execution_count": 22,
   "id": "57fcde82-2a45-4cf5-94d2-15246e343439",
   "metadata": {},
   "outputs": [
    {
     "name": "stdout",
     "output_type": "stream",
     "text": [
      "False\n"
     ]
    }
   ],
   "source": [
    "#One more value, or object in this case, evaluates to False, and that is if you have an object that is made \n",
    "#from a class with a __len__ function that returns 0 or False\n",
    "class myclass():\n",
    "  def __len__(self):\n",
    "    return 0\n",
    "\n",
    "myobj = myclass()\n",
    "print(bool(myobj))"
   ]
  },
  {
   "cell_type": "code",
   "execution_count": 24,
   "id": "51528c95-c86a-4bd6-b3a2-8694c01f4e85",
   "metadata": {},
   "outputs": [
    {
     "name": "stdout",
     "output_type": "stream",
     "text": [
      "True\n"
     ]
    }
   ],
   "source": [
    "def myFunction() :\n",
    "  return True\n",
    "\n",
    "print(myFunction())"
   ]
  },
  {
   "cell_type": "code",
   "execution_count": 114,
   "id": "671f207c-0538-494f-abed-4ddff3b90dec",
   "metadata": {},
   "outputs": [
    {
     "name": "stdout",
     "output_type": "stream",
     "text": [
      "YES!\n"
     ]
    }
   ],
   "source": [
    "#Print \"YES!\" if the function returns True, otherwise print \"NO!\"\n",
    "def myobject() :\n",
    "  return True\n",
    "\n",
    "if myobject():\n",
    "  print(\"YES!\")\n",
    "else:\n",
    "  print(\"NO!\")\n"
   ]
  },
  {
   "cell_type": "code",
   "execution_count": 120,
   "id": "47577b02-fc17-4153-9de3-7868b81585bb",
   "metadata": {},
   "outputs": [
    {
     "name": "stdout",
     "output_type": "stream",
     "text": [
      "False\n"
     ]
    }
   ],
   "source": [
    "#Check if an object is an integer or not\n",
    "x = \"AD\"\n",
    "print(isinstance(x, int))"
   ]
  },
  {
   "cell_type": "markdown",
   "id": "5e552eec-d73c-4d9c-a991-1a5244b91de7",
   "metadata": {},
   "source": [
    "Python Operators"
   ]
  },
  {
   "cell_type": "code",
   "execution_count": 122,
   "id": "939a5573-82f6-493b-bb7a-dc5da3ac0912",
   "metadata": {},
   "outputs": [
    {
     "name": "stdout",
     "output_type": "stream",
     "text": [
      "10005\n"
     ]
    }
   ],
   "source": [
    "#In the example below, we use the + operator to add together two values\n",
    "print(10000 + 5)"
   ]
  },
  {
   "cell_type": "code",
   "execution_count": 43,
   "id": "4451a0b2-7334-4cca-9284-13622e45849d",
   "metadata": {},
   "outputs": [],
   "source": [
    "#+\tAddition\tx + y\t\n",
    "#-\tSubtraction\tx - y\t\n",
    "#*\tMultiplication\tx * y\t\n",
    "#/\tDivision\tx / y\t\n",
    "#%\tModulus\tx % y\t\n",
    "#**\tExponentiation\tx ** y\t\n",
    "#//\tFloor division\tx // y"
   ]
  },
  {
   "cell_type": "code",
   "execution_count": 45,
   "id": "77bb0ade-213d-454e-bda4-1f144e4d516b",
   "metadata": {},
   "outputs": [],
   "source": [
    "#=\t                 x = 5\t                 x = 5\t\n",
    "#+=\t                 x += 3\t                 x = x + 3\t\n",
    "#-=\t                 x -= 3\t                 x = x - 3\t\n",
    "#*=\t                 x *= 3\t                 x = x * 3\t\n",
    "#/=\t                 x /= 3\t                 x = x / 3\t\n",
    "#%=\t                 x %= 3\t                 x = x % 3\t\n",
    "#//=\t             x //= 3\t             x = x // 3\t\n",
    "#**=\t             x **= 3\t             x = x ** 3\t\n",
    "#&=\t                 x &= 3\t                 x = x & 3\t\n",
    "#|=\t                 x |= 3\t                 x = x | 3\t\n",
    "#^=\t                 x ^= 3\t                 x = x ^ 3\t\n",
    "#>>=\t             x >>= 3\t             x = x >> 3\t\n",
    "#<<=\t             x <<= 3\t             x = x << 3\t\n",
    "#:=\t                 print(x := 3)\t         x = 3\n",
    "#                                            print(x)"
   ]
  },
  {
   "cell_type": "code",
   "execution_count": 47,
   "id": "ee8ec392-54ff-4a3c-bdbc-0c97aacc0b7a",
   "metadata": {},
   "outputs": [],
   "source": [
    "#==\tEqual\tx == y\t\n",
    "#!=\tNot equal\tx != y\t\n",
    "#>\tGreater than\tx > y\t\n",
    "#<\tLess than\tx < y\t\n",
    "#>=\tGreater than or equal to\tx >= y\t\n",
    "#<=\tLess than or equal to\tx <= y"
   ]
  },
  {
   "cell_type": "code",
   "execution_count": 49,
   "id": "ce35634c-952a-435c-8a69-db3e3f2e9fc4",
   "metadata": {},
   "outputs": [],
   "source": [
    "#and \tReturns True if both statements are true\tx < 5 and  x < 10\t\n",
    "#or\tReturns True if one of the statements is true\tx < 5 or x < 4\t\n",
    "#not\tReverse the result, returns False if the result is true\tnot(x < 5 and x < 10)"
   ]
  },
  {
   "cell_type": "code",
   "execution_count": 51,
   "id": "88d238fe-4f4b-48bd-98db-6623b1b8867d",
   "metadata": {},
   "outputs": [],
   "source": [
    "#is \tReturns True if both variables are the same object\tx is y\t\n",
    "#is not\tReturns True if both variables are not the same object\tx is not y"
   ]
  },
  {
   "cell_type": "code",
   "execution_count": 59,
   "id": "7880beeb-914e-4b09-9364-855deb972542",
   "metadata": {},
   "outputs": [
    {
     "data": {
      "text/plain": [
       "True"
      ]
     },
     "execution_count": 59,
     "metadata": {},
     "output_type": "execute_result"
    }
   ],
   "source": [
    "x=15\n",
    "y=15\n",
    "x is y"
   ]
  },
  {
   "cell_type": "code",
   "execution_count": 61,
   "id": "83f5e03e-12b6-47ec-ab0f-2715a5708c02",
   "metadata": {},
   "outputs": [
    {
     "data": {
      "text/plain": [
       "False"
      ]
     },
     "execution_count": 61,
     "metadata": {},
     "output_type": "execute_result"
    }
   ],
   "source": [
    "x=15\n",
    "y=14\n",
    "x is y"
   ]
  },
  {
   "cell_type": "code",
   "execution_count": 63,
   "id": "fcb42673-093c-4bcc-b474-554bfabd0f63",
   "metadata": {},
   "outputs": [],
   "source": [
    "#in \tReturns True if a sequence with the specified value is present in the object\tx in y\t\n",
    "#not in\tReturns True if a sequence with the specified value is not present in the object\tx not in y"
   ]
  },
  {
   "cell_type": "code",
   "execution_count": 69,
   "id": "f63acbf4-967a-4358-8832-fd3e279e567f",
   "metadata": {},
   "outputs": [],
   "source": [
    "#& \tAND\tSets each bit to 1 if both bits are 1\tx & y\t\n",
    "#|\tOR\tSets each bit to 1 if one of two bits is 1\tx | y\t\n",
    "#^\tXOR\tSets each bit to 1 if only one of two bits is 1\tx ^ y\t\n",
    "#~\tNOT\tInverts all the bits\t~x\t\n",
    "#<<\tZero fill left shift\tShift left by pushing zeros in from the right and let the leftmost bits fall off\tx << 2\t\n",
    "#>>\tSigned right shift\tShift right by pushing copies of the leftmost bit in from the left, and let the rightmost bits fall off\tx >> 2"
   ]
  },
  {
   "cell_type": "code",
   "execution_count": 124,
   "id": "f9288d9c-79f9-45c8-b824-12d4cfabcc02",
   "metadata": {},
   "outputs": [
    {
     "name": "stdout",
     "output_type": "stream",
     "text": [
      "3\n"
     ]
    }
   ],
   "source": [
    "print((9 + 3) - (6 + 3))"
   ]
  },
  {
   "cell_type": "code",
   "execution_count": 126,
   "id": "f78ea76e-e018-4759-8ed4-6e3924ae40df",
   "metadata": {},
   "outputs": [
    {
     "name": "stdout",
     "output_type": "stream",
     "text": [
      "16\n"
     ]
    }
   ],
   "source": [
    "#Multiplication * has higher precedence than addition +, and therefor multiplications are evaluated before additions:\n",
    "print(1 + 5 * 3)"
   ]
  },
  {
   "cell_type": "code",
   "execution_count": 128,
   "id": "76d9e1f4-df1b-4fdf-b377-801c76dafc15",
   "metadata": {},
   "outputs": [
    {
     "name": "stdout",
     "output_type": "stream",
     "text": [
      "-32\n"
     ]
    }
   ],
   "source": [
    "#Addition + and subtraction - has the same precedence, and therefor we evaluate the expression from left to right\n",
    "print(8 + 2 - 45 + 3)"
   ]
  },
  {
   "cell_type": "markdown",
   "id": "73bc4357-6870-484c-912a-4706fa4e9f4e",
   "metadata": {},
   "source": [
    "Python Lists"
   ]
  },
  {
   "cell_type": "code",
   "execution_count": 130,
   "id": "b2a7bf3d-0ed4-4eeb-a554-987ac2bb1008",
   "metadata": {},
   "outputs": [
    {
     "name": "stdout",
     "output_type": "stream",
     "text": [
      "['a', 'b', 'c']\n"
     ]
    }
   ],
   "source": [
    "thislist = [\"a\", \"b\", \"c\"]\n",
    "print(thislist)"
   ]
  },
  {
   "cell_type": "code",
   "execution_count": 132,
   "id": "24d8dc73-c019-405a-b80e-6d122357232b",
   "metadata": {},
   "outputs": [
    {
     "name": "stdout",
     "output_type": "stream",
     "text": [
      "['a', 'b', 'c', 'a', 'c']\n"
     ]
    }
   ],
   "source": [
    "#Lists allow duplicate values\n",
    "thislist = [\"a\", \"b\", \"c\", \"a\", \"c\"]\n",
    "print(thislist)"
   ]
  },
  {
   "cell_type": "code",
   "execution_count": 134,
   "id": "5ce4662c-ac80-4401-ae80-c780a510533e",
   "metadata": {},
   "outputs": [
    {
     "name": "stdout",
     "output_type": "stream",
     "text": [
      "3\n"
     ]
    }
   ],
   "source": [
    "#Print the number of items in the list\n",
    "thislist = [\"a\", \"b\", \"c\"]\n",
    "print(len(thislist))"
   ]
  },
  {
   "cell_type": "code",
   "execution_count": 136,
   "id": "009d872e-2487-45ae-b61a-6f89f14cafe5",
   "metadata": {},
   "outputs": [],
   "source": [
    "#List items can be of any data type \n",
    "#String, int and boolean data types\n",
    "list1 = [\"a\", \"b\", \"c\"]\n",
    "list2 = [18, 55, 71, 94, 3]\n",
    "list3 = [True, False, False]"
   ]
  },
  {
   "cell_type": "code",
   "execution_count": 138,
   "id": "07989082-1c5f-4646-a89b-192926ff3349",
   "metadata": {},
   "outputs": [],
   "source": [
    "#A list can contain different data types\n",
    "#A list with strings, integers and boolean values\n",
    "list1 = [\"absaSc\", 3454, True, 4022, \"male\"]"
   ]
  },
  {
   "cell_type": "code",
   "execution_count": 92,
   "id": "6fa5efa1-b121-4e50-a4f0-624afb1c3233",
   "metadata": {},
   "outputs": [
    {
     "name": "stdout",
     "output_type": "stream",
     "text": [
      "<class 'list'>\n"
     ]
    }
   ],
   "source": [
    "mylist = [\"apple\", \"banana\", \"cherry\"]\n",
    "print(type(mylist))"
   ]
  },
  {
   "cell_type": "code",
   "execution_count": 140,
   "id": "ae5058c9-d812-4f82-9d10-6e5271d16ae3",
   "metadata": {},
   "outputs": [
    {
     "name": "stdout",
     "output_type": "stream",
     "text": [
      "['a', 'b', 'c']\n"
     ]
    }
   ],
   "source": [
    "#It is also possible to use the list() constructor when creating a new list\n",
    "thislist = list((\"a\", \"b\", \"c\")) # note the double round-brackets\n",
    "print(thislist)"
   ]
  },
  {
   "cell_type": "markdown",
   "id": "51d540f9-f0f4-4db1-a5a7-1d6b1cfecc5b",
   "metadata": {},
   "source": [
    "Access List Items"
   ]
  },
  {
   "cell_type": "code",
   "execution_count": 142,
   "id": "5880816c-9501-44ab-8320-7eccbe693b11",
   "metadata": {},
   "outputs": [
    {
     "name": "stdout",
     "output_type": "stream",
     "text": [
      "b\n"
     ]
    }
   ],
   "source": [
    "thislist = [\"a\", \"b\", \"c\"]\n",
    "print(thislist[1])"
   ]
  },
  {
   "cell_type": "code",
   "execution_count": 144,
   "id": "61735070-63db-42cd-b330-2415f3b1cf5c",
   "metadata": {},
   "outputs": [
    {
     "name": "stdout",
     "output_type": "stream",
     "text": [
      "c\n"
     ]
    }
   ],
   "source": [
    "thislist = [\"a\", \"b\", \"c\"]\n",
    "print(thislist[-1])"
   ]
  },
  {
   "cell_type": "code",
   "execution_count": 146,
   "id": "5c9a4665-0e96-4504-af08-ea1996432fbc",
   "metadata": {},
   "outputs": [
    {
     "name": "stdout",
     "output_type": "stream",
     "text": [
      "['c', 'd', 'e']\n"
     ]
    }
   ],
   "source": [
    "thislist = [\"a\", \"b\", \"c\", \"d\", \"e\", \"f\", \"g\"]\n",
    "print(thislist[2:5])"
   ]
  },
  {
   "cell_type": "code",
   "execution_count": 150,
   "id": "47e90b37-3e06-4a45-bc6a-9c928cd78551",
   "metadata": {},
   "outputs": [
    {
     "name": "stdout",
     "output_type": "stream",
     "text": [
      "['a', 'b', 'c', 'o']\n"
     ]
    }
   ],
   "source": [
    "#This example returns the items from the beginning to, but NOT including, \"k\"\n",
    "thislist = [\"a\", \"b\", \"c\", \"o\", \"k\", \"m\", \"m\"]\n",
    "print(thislist[:4])"
   ]
  },
  {
   "cell_type": "code",
   "execution_count": 157,
   "id": "2470d232-c08b-4b22-813b-d7b828052309",
   "metadata": {},
   "outputs": [
    {
     "name": "stdout",
     "output_type": "stream",
     "text": [
      "['c', 'o', 'k', 'm', 'm']\n"
     ]
    }
   ],
   "source": [
    "#This example returns the items from \"c\" to the end\n",
    "thislist = [\"a\", \"b\", \"c\", \"o\", \"k\", \"m\", \"m\"]\n",
    "print(thislist[2:])"
   ]
  },
  {
   "cell_type": "code",
   "execution_count": 161,
   "id": "46da79ed-72b6-4ad9-b6cd-76fe75251cb7",
   "metadata": {},
   "outputs": [
    {
     "name": "stdout",
     "output_type": "stream",
     "text": [
      "['o', 'k', 'm']\n"
     ]
    }
   ],
   "source": [
    "#This example returns the items from \"o\" (-4) to, but NOT including \"n\" (-1)\n",
    "thislist = [\"a\", \"b\", \"c\", \"o\", \"k\", \"m\", \"n\"]\n",
    "print(thislist[-4:-1])"
   ]
  },
  {
   "cell_type": "code",
   "execution_count": 165,
   "id": "93ac317f-beb4-4dc3-aa3b-ea1384aac8dc",
   "metadata": {},
   "outputs": [
    {
     "name": "stdout",
     "output_type": "stream",
     "text": [
      "Yes, 'a' is in the letter list\n"
     ]
    }
   ],
   "source": [
    "#Check if \"a\" is present in the list\n",
    "thislist = [\"a\", \"b\", \"c\"]\n",
    "if \"a\" in thislist:\n",
    "  print(\"Yes, 'a' is in the letter list\")"
   ]
  },
  {
   "cell_type": "markdown",
   "id": "f91eea2a-add5-4987-a9ba-493079b2a8d2",
   "metadata": {},
   "source": [
    "Change List Items"
   ]
  },
  {
   "cell_type": "code",
   "execution_count": 167,
   "id": "d3275d7d-a805-4516-99c8-e4bab6316dd8",
   "metadata": {},
   "outputs": [
    {
     "name": "stdout",
     "output_type": "stream",
     "text": [
      "['a', 'd', 'c']\n"
     ]
    }
   ],
   "source": [
    "#To change the value of a specific item, refer to the index number\n",
    "thislist = [\"a\", \"b\", \"c\"]\n",
    "thislist[1] = \"d\"\n",
    "print(thislist)"
   ]
  },
  {
   "cell_type": "code",
   "execution_count": 171,
   "id": "bb9c0296-6621-4672-b088-c1f998da7704",
   "metadata": {},
   "outputs": [
    {
     "name": "stdout",
     "output_type": "stream",
     "text": [
      "['a', 'd', 'f', 'o', 'k', 'm']\n"
     ]
    }
   ],
   "source": [
    "#To change the value of items within a specific range, define a list with the new values, \n",
    "#and refer to the range of index numbers where you want to insert the new values\n",
    "thislist = [\"a\", \"b\", \"c\", \"o\", \"k\", \"m\"]\n",
    "thislist[1:3] = [\"d\", \"f\"]\n",
    "print(thislist)"
   ]
  },
  {
   "cell_type": "code",
   "execution_count": 175,
   "id": "1559bd1f-bd63-4a0a-9899-0b382fa8c56c",
   "metadata": {},
   "outputs": [
    {
     "name": "stdout",
     "output_type": "stream",
     "text": [
      "['a', 'd', 'e', 'c']\n"
     ]
    }
   ],
   "source": [
    "#If you insert more items than you replace, the new items will be inserted where you specified, \n",
    "#and the remaining items will move accordingly\n",
    "thislist = [\"a\", \"b\", \"c\"]\n",
    "thislist[1:2] = [\"d\", \"e\"]\n",
    "print(thislist)"
   ]
  },
  {
   "cell_type": "code",
   "execution_count": 179,
   "id": "9f9b1b3c-18dc-4e44-ac3e-daf3dc4aa3ab",
   "metadata": {},
   "outputs": [
    {
     "name": "stdout",
     "output_type": "stream",
     "text": [
      "['a', 'w']\n"
     ]
    }
   ],
   "source": [
    "#If you insert less items than you replace, the new items will be inserted where you specified, \n",
    "#and the remaining items will move accordingly\n",
    "thislist = [\"a\", \"b\", \"c\"]\n",
    "thislist[1:3] = [\"w\"]\n",
    "print(thislist)\n"
   ]
  },
  {
   "cell_type": "code",
   "execution_count": 183,
   "id": "835601d6-6496-4d4f-8886-baf859d50346",
   "metadata": {},
   "outputs": [
    {
     "name": "stdout",
     "output_type": "stream",
     "text": [
      "['a', 'b', 'w', 'c']\n"
     ]
    }
   ],
   "source": [
    "#The insert() method inserts an item at the specified index\n",
    "thislist = [\"a\", \"b\", \"c\"]\n",
    "thislist.insert(2, \"w\")\n",
    "print(thislist)"
   ]
  },
  {
   "cell_type": "markdown",
   "id": "9dfeb73c-1daa-434a-b268-1085f0b97469",
   "metadata": {},
   "source": [
    "Add List Items"
   ]
  },
  {
   "cell_type": "code",
   "execution_count": 189,
   "id": "fd3a601a-076c-46d2-bcd8-5f896ed1847d",
   "metadata": {},
   "outputs": [
    {
     "name": "stdout",
     "output_type": "stream",
     "text": [
      "['a', 'b', 'c', 'o']\n"
     ]
    }
   ],
   "source": [
    "#To add an item to the end of the list, use the append() method\n",
    "thislist = [\"a\", \"b\", \"c\"]\n",
    "thislist.append(\"o\")\n",
    "print(thislist)"
   ]
  },
  {
   "cell_type": "code",
   "execution_count": 373,
   "id": "aea5dc79-231e-4054-8633-1116181e7b2e",
   "metadata": {},
   "outputs": [
    {
     "name": "stdout",
     "output_type": "stream",
     "text": [
      "['a', 'o', 'b', 'c']\n"
     ]
    }
   ],
   "source": [
    "thislist = [\"a\", \"b\", \"c\"]\n",
    "thislist.insert(1, \"o\")\n",
    "print(thislist)\n"
   ]
  },
  {
   "cell_type": "code",
   "execution_count": 199,
   "id": "3e53b990-466c-407a-83ab-13151b6200b3",
   "metadata": {},
   "outputs": [
    {
     "name": "stdout",
     "output_type": "stream",
     "text": [
      "['a', 'b', 'c', 'm', 'p', 'd']\n"
     ]
    }
   ],
   "source": [
    "#To append elements from another list to the current list, use the extend() method\n",
    "l0 = [\"a\", \"b\", \"c\"]\n",
    "l1 = [\"m\", \"p\", \"d\"]\n",
    "l0.extend(l1)\n",
    "print(l0)"
   ]
  },
  {
   "cell_type": "code",
   "execution_count": 207,
   "id": "b60b0a56-93c0-458b-afbf-a9be8b43df1e",
   "metadata": {},
   "outputs": [
    {
     "name": "stdout",
     "output_type": "stream",
     "text": [
      "['a', 'b', 'c', 'k', 'o']\n"
     ]
    }
   ],
   "source": [
    "#The extend() method does not have to append lists, you can add any iterable object (tuples, sets, dictionaries etc.)\n",
    "list = [\"a\", \"b\", \"c\"]\n",
    "tuple = (\"k\", \"o\")\n",
    "list.extend(tuple)\n",
    "print(list)"
   ]
  },
  {
   "cell_type": "markdown",
   "id": "ece6b296-6dd5-4779-9a3d-5125c41fc9a1",
   "metadata": {},
   "source": [
    "Remove List Items"
   ]
  },
  {
   "cell_type": "code",
   "execution_count": 211,
   "id": "b3f0437e-5fe8-4bc9-8e4b-87f8d915d12d",
   "metadata": {},
   "outputs": [
    {
     "name": "stdout",
     "output_type": "stream",
     "text": [
      "['a', 'c']\n"
     ]
    }
   ],
   "source": [
    "#The remove() method removes the specified item\n",
    "thislist = [\"a\", \"b\", \"c\"]\n",
    "thislist.remove(\"b\")\n",
    "print(thislist)"
   ]
  },
  {
   "cell_type": "code",
   "execution_count": 217,
   "id": "a3fad4ce-331d-492e-85a9-b009fdc967b9",
   "metadata": {},
   "outputs": [
    {
     "name": "stdout",
     "output_type": "stream",
     "text": [
      "['a', 'c', 'b', 'k']\n"
     ]
    }
   ],
   "source": [
    "#If there are more than one item with the specified value, the remove() method removes the first occurrence\n",
    "thislist = [\"a\", \"b\", \"c\", \"b\", \"k\"]\n",
    "thislist.remove(\"b\")\n",
    "print(thislist)"
   ]
  },
  {
   "cell_type": "code",
   "execution_count": 219,
   "id": "9e53a6cc-63ec-49fc-a89c-3e34eb69b471",
   "metadata": {},
   "outputs": [
    {
     "name": "stdout",
     "output_type": "stream",
     "text": [
      "['a', 'c']\n"
     ]
    }
   ],
   "source": [
    "#The pop() method removes the specified index\n",
    "thislist = [\"a\", \"b\", \"c\"]\n",
    "thislist.pop(1)\n",
    "print(thislist)"
   ]
  },
  {
   "cell_type": "code",
   "execution_count": 223,
   "id": "9a632e09-f51f-492e-adf5-253eced6d69f",
   "metadata": {},
   "outputs": [
    {
     "name": "stdout",
     "output_type": "stream",
     "text": [
      "['a', 'b']\n"
     ]
    }
   ],
   "source": [
    "#If you do not specify the index, the pop() method removes the last item\n",
    "thislist = [\"a\", \"b\", \"c\"]\n",
    "thislist.pop()\n",
    "print(thislist)"
   ]
  },
  {
   "cell_type": "code",
   "execution_count": 225,
   "id": "e15c92be-50bb-43a2-bbf7-6f5446ecece6",
   "metadata": {},
   "outputs": [
    {
     "name": "stdout",
     "output_type": "stream",
     "text": [
      "['b', 'c']\n"
     ]
    }
   ],
   "source": [
    "#The del keyword also removes the specified index\n",
    "thislist = [\"a\", \"b\", \"c\"]\n",
    "del thislist[0]\n",
    "print(thislist)"
   ]
  },
  {
   "cell_type": "code",
   "execution_count": 229,
   "id": "a532175b-2968-4cdf-a64d-1d6e5bd0ae78",
   "metadata": {},
   "outputs": [],
   "source": [
    "#The del keyword can also delete the list completely\n",
    "thislist = [\"apple\", \"banana\", \"cherry\"]\n",
    "del thislist"
   ]
  },
  {
   "cell_type": "code",
   "execution_count": 233,
   "id": "b437b6bd-e69a-4ba2-b832-d8b0a9e921d4",
   "metadata": {},
   "outputs": [
    {
     "name": "stdout",
     "output_type": "stream",
     "text": [
      "[]\n"
     ]
    }
   ],
   "source": [
    "#The clear() method empties the list\n",
    "thislist = [\"apple\", \"banana\", \"cherry\"]\n",
    "thislist.clear()\n",
    "print(thislist)"
   ]
  },
  {
   "cell_type": "markdown",
   "id": "5cd150b1-1b8a-420c-8f5a-77c13351e932",
   "metadata": {},
   "source": [
    "Loop Lists"
   ]
  },
  {
   "cell_type": "code",
   "execution_count": 235,
   "id": "3c97ebae-3575-4eee-b116-b9a0e139f030",
   "metadata": {},
   "outputs": [
    {
     "name": "stdout",
     "output_type": "stream",
     "text": [
      "a\n",
      "b\n",
      "c\n"
     ]
    }
   ],
   "source": [
    "#You can loop through the list items by using a for loop\n",
    "thislist = [\"a\", \"b\", \"c\"]\n",
    "for x in thislist:\n",
    "  print(x)"
   ]
  },
  {
   "cell_type": "code",
   "execution_count": 241,
   "id": "3358d5e6-5a47-4614-8ccc-5e0bf7f3417c",
   "metadata": {},
   "outputs": [
    {
     "name": "stdout",
     "output_type": "stream",
     "text": [
      "a\n",
      "b\n",
      "c\n"
     ]
    }
   ],
   "source": [
    "#You can also loop through the list items by referring to their index number.\n",
    "#Use the range() and len() functions to create a suitable iterable\n",
    "thislist = [\"a\", \"b\", \"c\"]\n",
    "for i in range(len(thislist)):\n",
    "  print(thislist[i])"
   ]
  },
  {
   "cell_type": "code",
   "execution_count": 245,
   "id": "c2625e93-16ab-4eb4-949f-f3be26886773",
   "metadata": {},
   "outputs": [
    {
     "name": "stdout",
     "output_type": "stream",
     "text": [
      "a\n",
      "b\n",
      "c\n"
     ]
    }
   ],
   "source": [
    "#You can loop through the list items by using a while loop\n",
    "thislist = [\"a\", \"b\", \"c\"]\n",
    "i = 0\n",
    "while i < len(thislist):\n",
    "  print(thislist[i])\n",
    "  i = i + 1"
   ]
  },
  {
   "cell_type": "code",
   "execution_count": 265,
   "id": "3ff5980f-b4a5-4963-9514-7fe120203e35",
   "metadata": {},
   "outputs": [
    {
     "name": "stdout",
     "output_type": "stream",
     "text": [
      "a\n",
      "b\n",
      "c\n"
     ]
    },
    {
     "data": {
      "text/plain": [
       "[None, None, None]"
      ]
     },
     "execution_count": 265,
     "metadata": {},
     "output_type": "execute_result"
    }
   ],
   "source": [
    "#A short hand for loop that will print all items in a list\n",
    "thislist = [\"a\", \"b\", \"c\"]\n",
    "[print(x) for x in thislist]"
   ]
  },
  {
   "cell_type": "markdown",
   "id": "b9284eeb-87c3-4cbb-bde3-0d1d858eb43f",
   "metadata": {},
   "source": [
    "List Comprehension"
   ]
  },
  {
   "cell_type": "code",
   "execution_count": 273,
   "id": "1f343b79-7373-4001-aaa5-3b5614c6ef73",
   "metadata": {},
   "outputs": [
    {
     "name": "stdout",
     "output_type": "stream",
     "text": [
      "['aa', 'ba', 'ka']\n"
     ]
    }
   ],
   "source": [
    "listletter = [\"aa\", \"ba\", \"c\", \"ka\", \"m\"]\n",
    "new = []\n",
    "for x in listletter:\n",
    "  if \"a\" in x:\n",
    "    new.append(x)\n",
    "print(new)"
   ]
  },
  {
   "cell_type": "code",
   "execution_count": 295,
   "id": "9c3a507b-9bb3-4e85-82ef-3a83ac72e619",
   "metadata": {},
   "outputs": [
    {
     "name": "stdout",
     "output_type": "stream",
     "text": [
      "['a', 'ba', 'ma']\n"
     ]
    }
   ],
   "source": [
    "#With list comprehension you can do all that with only one line of code\n",
    "letters = [\"a\", \"ba\", \"c\", \"k\", \"ma\"]\n",
    "newlist = [x for x in letters if \"a\" in x]\n",
    "print(newlist)"
   ]
  },
  {
   "cell_type": "code",
   "execution_count": 279,
   "id": "30f62efc-95bf-4fb4-b2f3-5cf45307079e",
   "metadata": {},
   "outputs": [],
   "source": [
    "#newlist = [expression for item in iterable if condition == True]"
   ]
  },
  {
   "cell_type": "code",
   "execution_count": 297,
   "id": "cb0f6538-f977-4440-b786-a766e1082cd2",
   "metadata": {},
   "outputs": [],
   "source": [
    "#The condition is like a filter that only accepts the items that evaluate to True\n",
    "#Only accept items that are not \"a\"\n",
    "newlist = [x for x in letters if x != \"a\"]"
   ]
  },
  {
   "cell_type": "code",
   "execution_count": 299,
   "id": "70a5b858-5110-448b-b461-8ca7e9737cc1",
   "metadata": {},
   "outputs": [],
   "source": [
    "#The condition if x != \"a\"  will return True for all elements other than \"a\", \n",
    "#making the new list contain all letters except \"a\"."
   ]
  },
  {
   "cell_type": "code",
   "execution_count": 289,
   "id": "8d548a5a-1906-49ed-92d1-1b6f08441805",
   "metadata": {},
   "outputs": [],
   "source": [
    "#You can use the range() function to create an iterable\n",
    "newlist = [x for x in range(10)]"
   ]
  },
  {
   "cell_type": "code",
   "execution_count": 301,
   "id": "275fbc92-77e5-43ba-a1f9-ced00075e356",
   "metadata": {},
   "outputs": [],
   "source": [
    "#The expression is the current item in the iteration, but it is also the outcome, \n",
    "#which you can manipulate before it ends up like a list item in the new list\n",
    "#Set the values in the new list to upper case:\n",
    "newlist = [x.upper() for x in letters]"
   ]
  },
  {
   "cell_type": "markdown",
   "id": "ae78052d-92ef-43e1-9fe0-db1db2ddc954",
   "metadata": {},
   "source": [
    "Sort lists"
   ]
  },
  {
   "cell_type": "code",
   "execution_count": 303,
   "id": "d341bcd4-ee88-4680-83a0-49d4bea2dcc1",
   "metadata": {},
   "outputs": [
    {
     "name": "stdout",
     "output_type": "stream",
     "text": [
      "['b', 'k', 'm', 'o', 'p']\n"
     ]
    }
   ],
   "source": [
    "#List objects have a sort() method that will sort the list alphanumerically, ascending, by default\n",
    "#Sort the list alphabetically\n",
    "thislist = [\"o\", \"m\", \"k\", \"p\", \"b\"]\n",
    "thislist.sort()\n",
    "print(thislist)"
   ]
  },
  {
   "cell_type": "code",
   "execution_count": 307,
   "id": "f8a72a97-0e07-480d-982b-4c9257707162",
   "metadata": {},
   "outputs": [
    {
     "name": "stdout",
     "output_type": "stream",
     "text": [
      "[4, 5, 115, 243, 8552]\n"
     ]
    }
   ],
   "source": [
    "#Sort the list numerically\n",
    "thislist = [115, 4, 5, 8552, 243]\n",
    "thislist.sort()\n",
    "print(thislist)"
   ]
  },
  {
   "cell_type": "code",
   "execution_count": 311,
   "id": "1126b957-f43e-4d2d-8587-2fa7582387b9",
   "metadata": {},
   "outputs": [
    {
     "name": "stdout",
     "output_type": "stream",
     "text": [
      "['p', 'o', 'm', 'k', 'b']\n"
     ]
    }
   ],
   "source": [
    "#Sort the list descending\n",
    "thislist = [\"o\", \"m\", \"k\", \"p\", \"b\"]\n",
    "thislist.sort(reverse = True)\n",
    "print(thislist)"
   ]
  },
  {
   "cell_type": "code",
   "execution_count": 313,
   "id": "dbc8b3fa-545b-469b-b948-8956c4fd250d",
   "metadata": {},
   "outputs": [
    {
     "name": "stdout",
     "output_type": "stream",
     "text": [
      "[8552, 243, 115, 5, 4]\n"
     ]
    }
   ],
   "source": [
    "#Sort the list descending\n",
    "thislist = [115, 4, 5, 8552, 243]\n",
    "thislist.sort(reverse = True)\n",
    "print(thislist)"
   ]
  },
  {
   "cell_type": "code",
   "execution_count": 317,
   "id": "d5e49bd7-f77b-477f-a89b-9228f5d7d322",
   "metadata": {},
   "outputs": [
    {
     "name": "stdout",
     "output_type": "stream",
     "text": [
      "[50, 65, 23, 82, 100]\n"
     ]
    }
   ],
   "source": [
    "#Sort the list based on how close the number is to 50\n",
    "def myfunc(n):\n",
    "  return abs(n - 50)\n",
    "\n",
    "thislist = [100, 50, 65, 82, 23]\n",
    "thislist.sort(key = myfunc)\n",
    "print(thislist)"
   ]
  },
  {
   "cell_type": "code",
   "execution_count": 323,
   "id": "766b6515-b819-48dc-9fa5-c15e128ef35e",
   "metadata": {},
   "outputs": [
    {
     "name": "stdout",
     "output_type": "stream",
     "text": [
      "['K', 'O', 'b', 'c']\n"
     ]
    }
   ],
   "source": [
    "#By default the sort() method is case sensitive, resulting in all capital letters being sorted before lower case letters\n",
    "#Case sensitive sorting can give an unexpected result\n",
    "thislist = [\"b\", \"O\", \"K\", \"c\"]\n",
    "thislist.sort()\n",
    "print(thislist)"
   ]
  },
  {
   "cell_type": "code",
   "execution_count": 325,
   "id": "e2e5d40a-78db-4925-8c92-bd1a88a66e0b",
   "metadata": {},
   "outputs": [
    {
     "name": "stdout",
     "output_type": "stream",
     "text": [
      "['b', 'c', 'K', 'O']\n"
     ]
    }
   ],
   "source": [
    "thislist = [\"b\", \"O\", \"K\", \"c\"]\n",
    "thislist.sort(key = str.lower)\n",
    "print(thislist)"
   ]
  },
  {
   "cell_type": "code",
   "execution_count": 329,
   "id": "6f3cd6be-ab32-403c-b498-de5a517f28fb",
   "metadata": {},
   "outputs": [
    {
     "name": "stdout",
     "output_type": "stream",
     "text": [
      "['c', 'K', 'O', 'b']\n"
     ]
    }
   ],
   "source": [
    "#The reverse() method reverses the current sorting order of the elements\n",
    "thislist = [\"b\", \"O\", \"K\", \"c\"]\n",
    "thislist.reverse()\n",
    "print(thislist)"
   ]
  },
  {
   "cell_type": "markdown",
   "id": "85a9027d-61a7-4e8a-8dfc-e31b4fd70887",
   "metadata": {},
   "source": [
    "Copy lists"
   ]
  },
  {
   "cell_type": "code",
   "execution_count": 335,
   "id": "bac47b0c-1f43-4642-aa98-c987f7c4be2a",
   "metadata": {},
   "outputs": [
    {
     "name": "stdout",
     "output_type": "stream",
     "text": [
      "['a', 'b', 'c']\n"
     ]
    }
   ],
   "source": [
    "#Make a copy of a list with the copy() method\n",
    "thislist = [\"a\", \"b\", \"c\"]\n",
    "mylist = thislist.copy()\n",
    "print(mylist)"
   ]
  },
  {
   "cell_type": "code",
   "execution_count": 349,
   "id": "ef4c3a1e-0f10-49e6-8adf-ec206f7f5186",
   "metadata": {},
   "outputs": [
    {
     "name": "stdout",
     "output_type": "stream",
     "text": [
      "['a', 'b', 'c']\n"
     ]
    }
   ],
   "source": [
    "#Make a copy of a list with the : operator\n",
    "thislist = [\"a\", \"b\", \"c\"]\n",
    "mylist = thislist[:]\n",
    "print(mylist)"
   ]
  },
  {
   "cell_type": "markdown",
   "id": "653c9554-5b7c-4acf-b61d-ea74e58a42bb",
   "metadata": {},
   "source": [
    "Join Lists"
   ]
  },
  {
   "cell_type": "code",
   "execution_count": 358,
   "id": "9dcfeb00-a37e-4360-921f-75217640feb5",
   "metadata": {},
   "outputs": [
    {
     "name": "stdout",
     "output_type": "stream",
     "text": [
      "['a', 'b', 'c', 1, 2, 3]\n"
     ]
    }
   ],
   "source": [
    "#Join two list\n",
    "list1 = [\"a\", \"b\", \"c\"]\n",
    "list2 = [1, 2, 3]\n",
    "list3 = list1 + list2\n",
    "print(list3)"
   ]
  },
  {
   "cell_type": "code",
   "execution_count": 360,
   "id": "9c11a93e-a8a7-4729-b2d0-4710db53aa16",
   "metadata": {},
   "outputs": [
    {
     "name": "stdout",
     "output_type": "stream",
     "text": [
      "['a', 'b', 'c', 1, 2, 3]\n"
     ]
    }
   ],
   "source": [
    "#Another way to join two lists is by appending all the items from list2 into list1, one by one\n",
    "list1 = [\"a\", \"b\" , \"c\"]\n",
    "list2 = [1, 2, 3]\n",
    "for x in list2:\n",
    "  list1.append(x)\n",
    "print(list1)"
   ]
  },
  {
   "cell_type": "code",
   "execution_count": 364,
   "id": "d8523606-6e79-4d46-a995-9cac3f4c5241",
   "metadata": {},
   "outputs": [
    {
     "name": "stdout",
     "output_type": "stream",
     "text": [
      "['a', 'b', 'c', 1, 2, 3]\n"
     ]
    }
   ],
   "source": [
    "#you can use the extend() method, where the purpose is to add elements from one list to another list\n",
    "list1 = [\"a\", \"b\" , \"c\"]\n",
    "list2 = [1, 2, 3]\n",
    "list1.extend(list2)\n",
    "print(list1)"
   ]
  },
  {
   "cell_type": "markdown",
   "id": "2ad40de9-4e1f-4efe-b0e2-6575eec1d297",
   "metadata": {},
   "source": [
    "List Methods"
   ]
  },
  {
   "cell_type": "code",
   "execution_count": 369,
   "id": "a4a3f8dc-75fd-458f-9736-4e3845478fe3",
   "metadata": {},
   "outputs": [],
   "source": [
    "#append()\t Adds an element at the end of the list\n",
    "#clear()\t Removes all the elements from the list\n",
    "#copy()\t     Returns a copy of the list\n",
    "#count()\t Returns the number of elements with the specified value\n",
    "#extend()\t Add the elements of a list (or any iterable), to the end of the current list\n",
    "#index()\t Returns the index of the first element with the specified value\n",
    "#insert()\t Adds an element at the specified position\n",
    "#pop()\t     Removes the element at the specified position\n",
    "#remove()\t Removes the item with the specified value\n",
    "#reverse()\t Reverses the order of the list\n",
    "#sort()\t     Sorts the list"
   ]
  },
  {
   "cell_type": "markdown",
   "id": "af5d5c44-ca80-476f-bcfd-b629f20730fa",
   "metadata": {},
   "source": [
    "Python Tuples"
   ]
  },
  {
   "cell_type": "code",
   "execution_count": 386,
   "id": "5c3c615e-f660-4e50-ace1-1d4aeb03d6b2",
   "metadata": {},
   "outputs": [
    {
     "name": "stdout",
     "output_type": "stream",
     "text": [
      "('a', 'b', 'c')\n"
     ]
    }
   ],
   "source": [
    "#Tuples are used to store multiple items in a single variable.\n",
    "thistuple = (\"a\", \"b\", \"c\")\n",
    "print(thistuple)"
   ]
  },
  {
   "cell_type": "code",
   "execution_count": 392,
   "id": "f4bc97e7-c7b8-4016-bf78-89eac162bc1b",
   "metadata": {},
   "outputs": [],
   "source": [
    "#Tuples are unchangeable, meaning that we cannot change, add or remove items after the tuple has been created.\n",
    "#When we say that tuples are ordered, it means that the items have a defined order, and that order will not change\n",
    "#Since tuples are indexed, they can have items with the same value"
   ]
  },
  {
   "cell_type": "code",
   "execution_count": 394,
   "id": "343ebd2c-f870-4d01-b5a5-3507dc406df3",
   "metadata": {},
   "outputs": [
    {
     "name": "stdout",
     "output_type": "stream",
     "text": [
      "('a', 'b', 'c', 'a', 'c')\n"
     ]
    }
   ],
   "source": [
    "thistuple = (\"a\", \"b\", \"c\", \"a\", \"c\")\n",
    "print(thistuple)"
   ]
  },
  {
   "cell_type": "code",
   "execution_count": 396,
   "id": "ac0bfb8e-30f7-46f3-bf9a-6fa4f32f3d6b",
   "metadata": {},
   "outputs": [
    {
     "name": "stdout",
     "output_type": "stream",
     "text": [
      "3\n"
     ]
    }
   ],
   "source": [
    "#To determine how many items a tuple has, use the len() function\n",
    "thistuple = (\"a\", \"b\", \"c\")\n",
    "print(len(thistuple))"
   ]
  },
  {
   "cell_type": "code",
   "execution_count": 400,
   "id": "bf1ac196-1bd5-472a-bebe-675aefb865aa",
   "metadata": {},
   "outputs": [
    {
     "name": "stdout",
     "output_type": "stream",
     "text": [
      "<class 'tuple'>\n",
      "<class 'str'>\n"
     ]
    }
   ],
   "source": [
    "#To create a tuple with only one item, you have to add a comma after the item, otherwise Python will not recognize it as a tuple\n",
    "thistuple = (\"a\",)\n",
    "print(type(thistuple))\n",
    "#NOT a tuple\n",
    "thistuple = (\"a\")\n",
    "print(type(thistuple))"
   ]
  },
  {
   "cell_type": "code",
   "execution_count": 402,
   "id": "720a798e-3a87-4894-a606-40e194abc69c",
   "metadata": {},
   "outputs": [],
   "source": [
    "#Tuple items can be of any data type\n",
    "tuple1 = (\"a\", \"b\", \"c\")\n",
    "tuple2 = (1, 54, 723, 95, 3)\n",
    "tuple3 = (True, False, False)"
   ]
  },
  {
   "cell_type": "code",
   "execution_count": 404,
   "id": "33f91455-a9fc-409a-988e-1d3ae4b3e18a",
   "metadata": {},
   "outputs": [],
   "source": [
    "#A tuple can contain different data types\n",
    "tuple1 = (\"abc\", 34, True, 4045, \"female\")"
   ]
  },
  {
   "cell_type": "code",
   "execution_count": 408,
   "id": "7d40a0e2-8e45-47ef-baad-657d2321193b",
   "metadata": {},
   "outputs": [
    {
     "name": "stdout",
     "output_type": "stream",
     "text": [
      "<class 'tuple'>\n"
     ]
    }
   ],
   "source": [
    "mytuple = (\"a\", \"b\", \"c\")\n",
    "print(type(mytuple))"
   ]
  },
  {
   "cell_type": "markdown",
   "id": "0b785092-6b46-4c39-afb0-baf819369856",
   "metadata": {},
   "source": [
    "Access Tuple Items"
   ]
  },
  {
   "cell_type": "code",
   "execution_count": 417,
   "id": "fdf66ef4-081d-4464-890b-502c50b08131",
   "metadata": {},
   "outputs": [
    {
     "name": "stdout",
     "output_type": "stream",
     "text": [
      "b\n"
     ]
    }
   ],
   "source": [
    "#You can access tuple items by referring to the index number, inside square brackets\n",
    "thistuple = (\"a\", \"b\", \"c\")\n",
    "print(thistuple[1])"
   ]
  },
  {
   "cell_type": "code",
   "execution_count": 421,
   "id": "9cc62b03-9ac8-4cdf-8fc2-dc678aa95780",
   "metadata": {},
   "outputs": [
    {
     "name": "stdout",
     "output_type": "stream",
     "text": [
      "c\n"
     ]
    }
   ],
   "source": [
    "#Negative indexing means start from the end.\n",
    "#-1 refers to the last item, -2 refers to the second last item etc.\n",
    "thistuple = (\"a\", \"b\", \"c\")\n",
    "print(thistuple[-1])"
   ]
  },
  {
   "cell_type": "code",
   "execution_count": 427,
   "id": "db3e977d-7a2e-44e4-8ce7-acd68c1372f3",
   "metadata": {},
   "outputs": [
    {
     "name": "stdout",
     "output_type": "stream",
     "text": [
      "('cherry', 'orange', 'kiwi')\n"
     ]
    }
   ],
   "source": [
    "#You can specify a range of indexes by specifying where to start and where to end the range.\n",
    "thistuple = (\"apple\", \"banana\", \"cherry\", \"orange\", \"kiwi\", \"melon\", \"mango\")\n",
    "print(thistuple[2:5])"
   ]
  },
  {
   "cell_type": "code",
   "execution_count": 429,
   "id": "7c0b2e8f-c321-4116-b3d0-e0682a88e9ff",
   "metadata": {},
   "outputs": [
    {
     "name": "stdout",
     "output_type": "stream",
     "text": [
      "('apple', 'banana', 'cherry', 'orange')\n"
     ]
    }
   ],
   "source": [
    "#This example returns the items from the beginning to, but NOT included, \"kiwi\"\n",
    "thistuple = (\"apple\", \"banana\", \"cherry\", \"orange\", \"kiwi\", \"melon\", \"mango\")\n",
    "print(thistuple[:4])"
   ]
  },
  {
   "cell_type": "code",
   "execution_count": 435,
   "id": "fd5d8a8a-d891-4999-81a3-9499916cded6",
   "metadata": {},
   "outputs": [
    {
     "name": "stdout",
     "output_type": "stream",
     "text": [
      "('cherry', 'orange', 'kiwi', 'melon', 'mango')\n"
     ]
    }
   ],
   "source": [
    "#This example returns the items from \"cherry\" and to the end\n",
    "thistuple = (\"apple\", \"banana\", \"cherry\", \"orange\", \"kiwi\", \"melon\", \"mango\")\n",
    "print(thistuple[2:])\n"
   ]
  },
  {
   "cell_type": "code",
   "execution_count": 439,
   "id": "ae661b41-0fb9-447b-b99d-6da69cd6dc8f",
   "metadata": {},
   "outputs": [
    {
     "name": "stdout",
     "output_type": "stream",
     "text": [
      "('orange', 'kiwi', 'melon')\n"
     ]
    }
   ],
   "source": [
    "#This example returns the items from index -4 (included) to index -1 (excluded)\n",
    "thistuple = (\"apple\", \"banana\", \"cherry\", \"orange\", \"kiwi\", \"melon\", \"mango\")\n",
    "print(thistuple[-4:-1])"
   ]
  },
  {
   "cell_type": "code",
   "execution_count": 441,
   "id": "1c196791-5844-4082-ad79-39b6903cd662",
   "metadata": {},
   "outputs": [
    {
     "name": "stdout",
     "output_type": "stream",
     "text": [
      "Yes, 'apple' is in the fruits tuple\n"
     ]
    }
   ],
   "source": [
    "#to determine if a specified item is present in a tuple use the in keyword\n",
    "thistuple = (\"apple\", \"banana\", \"cherry\")\n",
    "if \"apple\" in thistuple:\n",
    "  print(\"Yes, 'apple' is in the fruits tuple\")"
   ]
  },
  {
   "cell_type": "markdown",
   "id": "89e036a7-dc24-4601-ae03-d756ffefb688",
   "metadata": {},
   "source": [
    "Update Tuples"
   ]
  },
  {
   "cell_type": "code",
   "execution_count": null,
   "id": "653c3072-ceb6-43b6-b370-c0a2d2226332",
   "metadata": {},
   "outputs": [],
   "source": [
    "#Once a tuple is created, you cannot change its values. Tuples are unchangeable, or immutable as it also is called.\n",
    "#But there is a workaround. You can convert the tuple into a list, change the list, and convert the list back into a tuple.\n",
    "x = (\"apple\", \"banana\", \"cherry\")\n",
    "y = list(x)\n",
    "y[1] = \"kiwi\"\n",
    "x = tuple(y)\n",
    "print(x)"
   ]
  },
  {
   "cell_type": "code",
   "execution_count": null,
   "id": "dc0fef0c-9959-451b-8d7e-a3d3fb42d991",
   "metadata": {},
   "outputs": [],
   "source": [
    "#Since tuples are immutable, they do not have a built-in append() method, but there are other ways to add items to a tuple.\n",
    "# 1.Convert into a list: Just like the workaround for changing a tuple, you can convert it into a list, add your item(s), \n",
    "# and convert it back into a tuple.\n",
    "thistuple = (\"apple\", \"banana\", \"cherry\")\n",
    "y = list(thistuple)\n",
    "y.append(\"orange\")\n",
    "thistuple = tuple(y)\n",
    "#2. Add tuple to a tuple. You are allowed to add tuples to tuples, so if you want to add one item, (or many), \n",
    "#create a new tuple with the item(s), and add it to the existing tuple:\n",
    "thistuple = (\"apple\", \"banana\", \"cherry\")\n",
    "y = (\"orange\",)\n",
    "thistuple += y\n",
    "print(thistuple)"
   ]
  },
  {
   "cell_type": "code",
   "execution_count": null,
   "id": "5b1d086d-721e-4da4-9067-43de72d84b6f",
   "metadata": {},
   "outputs": [],
   "source": [
    "#Convert the tuple into a list, remove \"apple\", and convert it back into a tuple\n",
    "thistuple = (\"apple\", \"banana\", \"cherry\")\n",
    "y = list(thistuple)\n",
    "y.remove(\"apple\")\n",
    "thistuple = tuple(y)"
   ]
  },
  {
   "cell_type": "code",
   "execution_count": null,
   "id": "a16fd9e9-f7e7-496e-809f-9a3da51d28fc",
   "metadata": {},
   "outputs": [],
   "source": [
    "#The del keyword can delete the tuple completely\n",
    "thistuple = (\"apple\", \"banana\", \"cherry\")\n",
    "del thistuple\n",
    "print(thistuple) #this will raise an error because the tuple no longer exists"
   ]
  },
  {
   "cell_type": "markdown",
   "id": "2d1b7481-580f-4d0e-9fe0-f2838f1c53de",
   "metadata": {},
   "source": [
    "Unpack Tuples"
   ]
  },
  {
   "cell_type": "code",
   "execution_count": 455,
   "id": "d9edd313-171e-42d8-a4ea-a69f7cf5c001",
   "metadata": {},
   "outputs": [],
   "source": [
    "#When we create a tuple, we normally assign values to it. This is called \"packing\" a tuple:\n",
    "fruits = (\"apple\", \"banana\", \"cherry\")"
   ]
  },
  {
   "cell_type": "code",
   "execution_count": 457,
   "id": "61ee2c6c-9961-482b-892b-09cf78804196",
   "metadata": {},
   "outputs": [
    {
     "name": "stdout",
     "output_type": "stream",
     "text": [
      "apple\n",
      "banana\n",
      "cherry\n"
     ]
    }
   ],
   "source": [
    "#But, in Python, we are also allowed to extract the values back into variables. This is called \"unpacking\"\n",
    "fruits = (\"apple\", \"banana\", \"cherry\")\n",
    "(green, yellow, red) = fruits\n",
    "print(green)\n",
    "print(yellow)\n",
    "print(red)"
   ]
  },
  {
   "cell_type": "code",
   "execution_count": 461,
   "id": "3941865a-b44e-49db-a00f-2b8322d4ed2f",
   "metadata": {},
   "outputs": [
    {
     "name": "stdout",
     "output_type": "stream",
     "text": [
      "apple\n",
      "banana\n",
      "['cherry', 'strawberry', 'raspberry']\n"
     ]
    }
   ],
   "source": [
    "#If the number of variables is less than the number of values, you can add an * to the variable name \n",
    "#and the values will be assigned to the variable as a list:\n",
    "#Assign the rest of the values as a list called \"red\"\n",
    "fruits = (\"apple\", \"banana\", \"cherry\", \"strawberry\", \"raspberry\")\n",
    "(green, yellow, *red) = fruits\n",
    "print(green)\n",
    "print(yellow)\n",
    "print(red)"
   ]
  },
  {
   "cell_type": "code",
   "execution_count": 463,
   "id": "fa1fe92a-7011-4d9c-a07f-3fbfcdfbf485",
   "metadata": {},
   "outputs": [
    {
     "name": "stdout",
     "output_type": "stream",
     "text": [
      "apple\n",
      "['mango', 'papaya', 'pineapple']\n",
      "cherry\n"
     ]
    }
   ],
   "source": [
    "#If the asterisk is added to another variable name than the last, Python will assign values to the variable \n",
    "#until the number of values left matches the number of variables left.\n",
    "#Add a list of values the \"tropic\" variable:\n",
    "fruits = (\"apple\", \"mango\", \"papaya\", \"pineapple\", \"cherry\")\n",
    "(green, *tropic, red) = fruits\n",
    "print(green)\n",
    "print(tropic)\n",
    "print(red)"
   ]
  },
  {
   "cell_type": "markdown",
   "id": "d40b91dd-0a7d-46d9-9ef3-fc7c9f995240",
   "metadata": {},
   "source": [
    "Loop Tuples"
   ]
  },
  {
   "cell_type": "code",
   "execution_count": 468,
   "id": "209c5175-03c7-485e-8dcb-59d6564dbdc6",
   "metadata": {},
   "outputs": [
    {
     "name": "stdout",
     "output_type": "stream",
     "text": [
      "apple\n",
      "banana\n",
      "cherry\n"
     ]
    }
   ],
   "source": [
    "#Iterate through the items and print the values:\n",
    "thistuple = (\"apple\", \"banana\", \"cherry\")\n",
    "for x in thistuple:\n",
    "  print(x)"
   ]
  },
  {
   "cell_type": "code",
   "execution_count": 472,
   "id": "9c57ff49-89fa-4ec7-a6de-da2c3506ddb3",
   "metadata": {},
   "outputs": [
    {
     "name": "stdout",
     "output_type": "stream",
     "text": [
      "apple\n",
      "banana\n",
      "cherry\n"
     ]
    }
   ],
   "source": [
    "#Print all items by referring to their index number\n",
    "thistuple = (\"apple\", \"banana\", \"cherry\")\n",
    "for i in range(len(thistuple)):\n",
    "  print(thistuple[i])"
   ]
  },
  {
   "cell_type": "code",
   "execution_count": 470,
   "id": "11756eab-d152-4f4a-8d46-e289ab51e95b",
   "metadata": {},
   "outputs": [
    {
     "name": "stdout",
     "output_type": "stream",
     "text": [
      "apple\n",
      "banana\n",
      "cherry\n"
     ]
    }
   ],
   "source": [
    "#Print all items, using a while loop to go through all the index numbers:\n",
    "thistuple = (\"apple\", \"banana\", \"cherry\")\n",
    "i = 0\n",
    "while i < len(thistuple):\n",
    "  print(thistuple[i])\n",
    "  i = i + 1"
   ]
  },
  {
   "cell_type": "markdown",
   "id": "769a16f6-d890-4434-a62f-0d232956f7a9",
   "metadata": {},
   "source": [
    "Join Tuples"
   ]
  },
  {
   "cell_type": "code",
   "execution_count": 475,
   "id": "5cf68104-fa06-4f84-bce9-5c921367a406",
   "metadata": {},
   "outputs": [
    {
     "name": "stdout",
     "output_type": "stream",
     "text": [
      "('a', 'b', 'c', 1, 2, 3)\n"
     ]
    }
   ],
   "source": [
    "#To join two or more tuples you can use the + operator:\n",
    "tuple1 = (\"a\", \"b\" , \"c\")\n",
    "tuple2 = (1, 2, 3)\n",
    "tuple3 = tuple1 + tuple2\n",
    "print(tuple3)"
   ]
  },
  {
   "cell_type": "code",
   "execution_count": 479,
   "id": "c9e39c45-b5d0-41a7-ab63-c2ba5ebc1864",
   "metadata": {},
   "outputs": [
    {
     "name": "stdout",
     "output_type": "stream",
     "text": [
      "('apple', 'banana', 'cherry', 'apple', 'banana', 'cherry')\n"
     ]
    }
   ],
   "source": [
    "#If you want to multiply the content of a tuple a given number of times, you can use the * operator:\n",
    "fruits = (\"apple\", \"banana\", \"cherry\")\n",
    "mytuple = fruits * 2\n",
    "print(mytuple)"
   ]
  },
  {
   "cell_type": "markdown",
   "id": "21836ac8-e97c-4725-8d70-dda4b269248c",
   "metadata": {},
   "source": [
    "Tuple Methods"
   ]
  },
  {
   "cell_type": "code",
   "execution_count": 482,
   "id": "86a529f0-33db-44d7-bec2-8035e5eba603",
   "metadata": {},
   "outputs": [],
   "source": [
    "#count()\tReturns the number of times a specified value occurs in a tuple\n",
    "#index()\tSearches the tuple for a specified value and returns the position of where it was found"
   ]
  },
  {
   "cell_type": "markdown",
   "id": "0a04c4db-38d7-4742-b313-8c9770ad6dc2",
   "metadata": {},
   "source": [
    "Python Sets"
   ]
  },
  {
   "cell_type": "code",
   "execution_count": 485,
   "id": "e98341b0-ef6e-46a6-8d21-a4a20a1fd1c2",
   "metadata": {},
   "outputs": [
    {
     "name": "stdout",
     "output_type": "stream",
     "text": [
      "{'apple', 'banana', 'cherry'}\n"
     ]
    }
   ],
   "source": [
    "#Sets are written with curly brackets.\n",
    "thisset = {\"apple\", \"banana\", \"cherry\"}\n",
    "print(thisset)"
   ]
  },
  {
   "cell_type": "code",
   "execution_count": 489,
   "id": "f6d42098-96cc-4311-8643-d0f9868b9a91",
   "metadata": {},
   "outputs": [],
   "source": [
    "#Set items are unordered, unchangeable, and do not allow duplicate values.\n",
    "#Unordered means that the items in a set do not have a defined order.\n",
    "#Set items can appear in a different order every time you use them, and cannot be referred to by index or key.\n",
    "#Set items are unchangeable, meaning that we cannot change the items after the set has been created."
   ]
  },
  {
   "cell_type": "code",
   "execution_count": 491,
   "id": "070e1c91-9fd1-4eae-98bc-032465d4e12c",
   "metadata": {},
   "outputs": [
    {
     "name": "stdout",
     "output_type": "stream",
     "text": [
      "{'apple', 'banana', 'cherry'}\n"
     ]
    }
   ],
   "source": [
    "#Sets cannot have two items with the same value.\n",
    "thisset = {\"apple\", \"banana\", \"cherry\", \"apple\"}\n",
    "\n",
    "print(thisset)"
   ]
  },
  {
   "cell_type": "code",
   "execution_count": 495,
   "id": "42e3a7b1-b36a-4c91-9094-624a2c5b4c41",
   "metadata": {},
   "outputs": [
    {
     "name": "stdout",
     "output_type": "stream",
     "text": [
      "{'apple', True, 2, 'banana', 'cherry'}\n"
     ]
    }
   ],
   "source": [
    "#True and 1 is considered the same value:\n",
    "thisset = {\"apple\", \"banana\", \"cherry\", True, 1, 2}\n",
    "print(thisset)"
   ]
  },
  {
   "cell_type": "code",
   "execution_count": 497,
   "id": "12c6e341-6ddb-4942-8e34-69e33e51bf09",
   "metadata": {},
   "outputs": [
    {
     "name": "stdout",
     "output_type": "stream",
     "text": [
      "{'apple', False, True, 'banana', 'cherry'}\n"
     ]
    }
   ],
   "source": [
    "#False and 0 is considered the same value:\n",
    "thisset = {\"apple\", \"banana\", \"cherry\", False, True, 0}\n",
    "print(thisset)"
   ]
  },
  {
   "cell_type": "code",
   "execution_count": 499,
   "id": "a8d20100-8735-487a-b293-023491d9f433",
   "metadata": {},
   "outputs": [
    {
     "name": "stdout",
     "output_type": "stream",
     "text": [
      "3\n"
     ]
    }
   ],
   "source": [
    "#To determine how many items a set has, use the len() function.\n",
    "thisset = {\"apple\", \"banana\", \"cherry\"}\n",
    "print(len(thisset))"
   ]
  },
  {
   "cell_type": "code",
   "execution_count": 501,
   "id": "288e9519-b80a-4ca4-96c4-cdf9f602ae9d",
   "metadata": {},
   "outputs": [],
   "source": [
    "#Set items can be of any data type:\n",
    "set1 = {\"apple\", \"banana\", \"cherry\"}\n",
    "set2 = {1, 5, 7, 9, 3}\n",
    "set3 = {True, False, False}"
   ]
  },
  {
   "cell_type": "code",
   "execution_count": 503,
   "id": "17c545e6-c66d-421b-8d72-3fb5fc70e69e",
   "metadata": {},
   "outputs": [],
   "source": [
    "#A set can contain different data types:\n",
    "set1 = {\"abc\", 34, True, 40, \"male\"}"
   ]
  },
  {
   "cell_type": "code",
   "execution_count": 505,
   "id": "8e8cf503-51d8-489c-b24b-af9d93b079b4",
   "metadata": {},
   "outputs": [
    {
     "name": "stdout",
     "output_type": "stream",
     "text": [
      "<class 'set'>\n"
     ]
    }
   ],
   "source": [
    "#From Python's perspective, sets are defined as objects with the data type 'set':\n",
    "#<class 'set'>\n",
    "myset = {\"apple\", \"banana\", \"cherry\"}\n",
    "print(type(myset))"
   ]
  },
  {
   "cell_type": "code",
   "execution_count": null,
   "id": "777daf9d-00b1-4ad9-9e81-60709d887178",
   "metadata": {},
   "outputs": [],
   "source": [
    "#it is also possible to use the set() constructor to make a set.\n",
    "thisset = set((\"apple\", \"banana\", \"cherry\")) # note the double round-brackets\n",
    "print(thisset)"
   ]
  },
  {
   "cell_type": "code",
   "execution_count": 507,
   "id": "ab9fa6c9-f6f6-4d89-b987-e6220dbe692e",
   "metadata": {},
   "outputs": [],
   "source": [
    "#List is a collection which is ordered and changeable. Allows duplicate members.\n",
    "#Tuple is a collection which is ordered and unchangeable. Allows duplicate members.\n",
    "#Set is a collection which is unordered, unchangeable*, and unindexed. No duplicate members.\n",
    "#Dictionary is a collection which is ordered** and changeable. No duplicate members."
   ]
  },
  {
   "cell_type": "markdown",
   "id": "a8de5480-f25f-4063-8fb1-ce33c878dd7f",
   "metadata": {},
   "source": [
    "Access Set Items"
   ]
  },
  {
   "cell_type": "code",
   "execution_count": 510,
   "id": "a0a0a5e3-1d0b-4dbd-8325-1f4e48a27191",
   "metadata": {},
   "outputs": [
    {
     "name": "stdout",
     "output_type": "stream",
     "text": [
      "apple\n",
      "banana\n",
      "cherry\n"
     ]
    }
   ],
   "source": [
    "#You cannot access items in a set by referring to an index or a key.\n",
    "#But you can loop through the set items using a for loop, or ask \n",
    "#if a specified value is present in a set, by using the in keyword.\n",
    "thisset = {\"apple\", \"banana\", \"cherry\"}\n",
    "for x in thisset:\n",
    "  print(x)"
   ]
  },
  {
   "cell_type": "code",
   "execution_count": 512,
   "id": "9f1fe874-df72-42c1-99de-88df633aed4f",
   "metadata": {},
   "outputs": [
    {
     "name": "stdout",
     "output_type": "stream",
     "text": [
      "True\n"
     ]
    }
   ],
   "source": [
    "#Check if \"banana\" is present in the set:\n",
    "thisset = {\"apple\", \"banana\", \"cherry\"}\n",
    "print(\"banana\" in thisset)"
   ]
  },
  {
   "cell_type": "code",
   "execution_count": 514,
   "id": "99bf82c5-38ad-4202-ac44-7ed2cde41834",
   "metadata": {},
   "outputs": [
    {
     "name": "stdout",
     "output_type": "stream",
     "text": [
      "False\n"
     ]
    }
   ],
   "source": [
    "#Check if \"banana\" is NOT present in the set:\n",
    "thisset = {\"apple\", \"banana\", \"cherry\"}\n",
    "print(\"banana\" not in thisset)"
   ]
  },
  {
   "cell_type": "markdown",
   "id": "17a9ecb8-0395-4f7a-910e-f449854afb12",
   "metadata": {},
   "source": [
    "Add Set Items"
   ]
  },
  {
   "cell_type": "code",
   "execution_count": 516,
   "id": "8a0050f1-ec95-403b-bfbb-ab26b4483ab5",
   "metadata": {},
   "outputs": [
    {
     "name": "stdout",
     "output_type": "stream",
     "text": [
      "{'apple', 'orange', 'banana', 'cherry'}\n"
     ]
    }
   ],
   "source": [
    "#Add an item to a set, using the add() method:\n",
    "thisset = {\"apple\", \"banana\", \"cherry\"}\n",
    "thisset.add(\"orange\")\n",
    "print(thisset)"
   ]
  },
  {
   "cell_type": "code",
   "execution_count": 518,
   "id": "4a885cc6-5cb1-4e30-85f4-508a996ce5ee",
   "metadata": {},
   "outputs": [
    {
     "name": "stdout",
     "output_type": "stream",
     "text": [
      "{'apple', 'banana', 'papaya', 'pineapple', 'mango', 'cherry'}\n"
     ]
    }
   ],
   "source": [
    "#To add items from another set into the current set, use the update() method.\n",
    "thisset = {\"apple\", \"banana\", \"cherry\"}\n",
    "tropical = {\"pineapple\", \"mango\", \"papaya\"}\n",
    "thisset.update(tropical)\n",
    "print(thisset)"
   ]
  },
  {
   "cell_type": "code",
   "execution_count": 520,
   "id": "01951ac9-0156-4b11-989e-467cf84292e9",
   "metadata": {},
   "outputs": [
    {
     "name": "stdout",
     "output_type": "stream",
     "text": [
      "{'apple', 'orange', 'banana', 'kiwi', 'cherry'}\n"
     ]
    }
   ],
   "source": [
    "#The object in the update() method does not have to be a set, it can be any iterable object (tuples, lists, dictionaries etc.).\n",
    "thisset = {\"apple\", \"banana\", \"cherry\"}\n",
    "mylist = [\"kiwi\", \"orange\"]\n",
    "thisset.update(mylist)\n",
    "print(thisset)"
   ]
  },
  {
   "cell_type": "markdown",
   "id": "c3b22ba2-9073-432e-82cc-1ef87d6ca431",
   "metadata": {},
   "source": [
    "Remove Set Items"
   ]
  },
  {
   "cell_type": "code",
   "execution_count": 531,
   "id": "4b8d04b2-f11b-4b8b-9cd2-ab1567ad2a5d",
   "metadata": {},
   "outputs": [
    {
     "name": "stdout",
     "output_type": "stream",
     "text": [
      "{'apple', 'cherry'}\n"
     ]
    }
   ],
   "source": [
    "#Remove \"banana\" by using the remove() method:\n",
    "thisset = {\"apple\", \"banana\", \"cherry\"}\n",
    "thisset.remove(\"banana\")\n",
    "print(thisset)"
   ]
  },
  {
   "cell_type": "code",
   "execution_count": 533,
   "id": "f809f7c8-3acb-46f5-8544-3924cbc03001",
   "metadata": {},
   "outputs": [
    {
     "name": "stdout",
     "output_type": "stream",
     "text": [
      "{'apple', 'cherry'}\n"
     ]
    }
   ],
   "source": [
    "#Remove \"banana\" by using the discard() method:\n",
    "thisset = {\"apple\", \"banana\", \"cherry\"}\n",
    "thisset.discard(\"banana\")\n",
    "print(thisset)"
   ]
  },
  {
   "cell_type": "code",
   "execution_count": 535,
   "id": "2588990c-eea7-4e16-82ab-a470040d2a84",
   "metadata": {},
   "outputs": [
    {
     "name": "stdout",
     "output_type": "stream",
     "text": [
      "apple\n",
      "{'banana', 'cherry'}\n"
     ]
    }
   ],
   "source": [
    "#Remove a random item by using the pop() method:\n",
    "thisset = {\"apple\", \"banana\", \"cherry\"}\n",
    "x = thisset.pop()\n",
    "print(x)\n",
    "print(thisset)"
   ]
  },
  {
   "cell_type": "code",
   "execution_count": 537,
   "id": "84a6df81-0a0c-4097-95d0-d9de78b963ac",
   "metadata": {},
   "outputs": [
    {
     "name": "stdout",
     "output_type": "stream",
     "text": [
      "set()\n"
     ]
    }
   ],
   "source": [
    "#The clear() method empties the set:\n",
    "thisset = {\"apple\", \"banana\", \"cherry\"}\n",
    "thisset.clear()\n",
    "print(thisset)"
   ]
  },
  {
   "cell_type": "code",
   "execution_count": null,
   "id": "cf3b4efb-7aa2-4304-8c4b-dd7940e2da3c",
   "metadata": {},
   "outputs": [],
   "source": [
    "#The del keyword will delete the set completely:\n",
    "thisset = {\"apple\", \"banana\", \"cherry\"}\n",
    "del thisset\n",
    "print(thisset)"
   ]
  },
  {
   "cell_type": "markdown",
   "id": "04328527-62aa-429b-adae-fb835b03de91",
   "metadata": {},
   "source": [
    "Loop Sets"
   ]
  },
  {
   "cell_type": "code",
   "execution_count": 542,
   "id": "1110066f-6025-4d78-9a80-9454ede6bf67",
   "metadata": {},
   "outputs": [
    {
     "name": "stdout",
     "output_type": "stream",
     "text": [
      "apple\n",
      "banana\n",
      "cherry\n"
     ]
    }
   ],
   "source": [
    "#You can loop through the set items by using a for loop:\n",
    "thisset = {\"apple\", \"banana\", \"cherry\"}\n",
    "for x in thisset:\n",
    "  print(x)"
   ]
  },
  {
   "cell_type": "markdown",
   "id": "02ef887c-e671-4a4f-8bb9-2bc53095fc49",
   "metadata": {},
   "source": [
    "Join Sets"
   ]
  },
  {
   "cell_type": "code",
   "execution_count": 545,
   "id": "f960a744-b7d3-4c69-9a2f-20cd227b9d95",
   "metadata": {},
   "outputs": [
    {
     "name": "stdout",
     "output_type": "stream",
     "text": [
      "{1, 2, 3, 'c', 'b', 'a'}\n"
     ]
    }
   ],
   "source": [
    "#The union() method returns a new set with all items from both sets.\n",
    "set1 = {\"a\", \"b\", \"c\"}\n",
    "set2 = {1, 2, 3}\n",
    "set3 = set1.union(set2)\n",
    "print(set3)"
   ]
  },
  {
   "cell_type": "code",
   "execution_count": 547,
   "id": "651b20d7-867e-493e-9c52-a6d15a695200",
   "metadata": {},
   "outputs": [
    {
     "name": "stdout",
     "output_type": "stream",
     "text": [
      "{1, 2, 3, 'c', 'b', 'a'}\n"
     ]
    }
   ],
   "source": [
    "#You can use the | operator instead of the union() method, and you will get the same result.\n",
    "set1 = {\"a\", \"b\", \"c\"}\n",
    "set2 = {1, 2, 3}\n",
    "set3 = set1 | set2\n",
    "print(set3)"
   ]
  },
  {
   "cell_type": "code",
   "execution_count": 549,
   "id": "5aeaf94a-8d77-4d18-8847-faf49fab35e9",
   "metadata": {},
   "outputs": [
    {
     "name": "stdout",
     "output_type": "stream",
     "text": [
      "{'apple', 1, 2, 3, 'John', 'bananas', 'Elena', 'a', 'c', 'b', 'cherry'}\n"
     ]
    }
   ],
   "source": [
    "#All the joining methods and operators can be used to join multiple sets.\n",
    "#When using a method, just add more sets in the parentheses, separated by commas:\n",
    "set1 = {\"a\", \"b\", \"c\"}\n",
    "set2 = {1, 2, 3}\n",
    "set3 = {\"John\", \"Elena\"}\n",
    "set4 = {\"apple\", \"bananas\", \"cherry\"}\n",
    "myset = set1.union(set2, set3, set4)\n",
    "print(myset)"
   ]
  },
  {
   "cell_type": "code",
   "execution_count": 551,
   "id": "181c4f5d-7690-4ece-a8fe-e8871ce95e67",
   "metadata": {},
   "outputs": [
    {
     "name": "stdout",
     "output_type": "stream",
     "text": [
      "{'apple', 1, 2, 3, 'John', 'bananas', 'Elena', 'a', 'c', 'b', 'cherry'}\n"
     ]
    }
   ],
   "source": [
    "#When using the | operator, separate the sets with more | operators:\n",
    "set1 = {\"a\", \"b\", \"c\"}\n",
    "set2 = {1, 2, 3}\n",
    "set3 = {\"John\", \"Elena\"}\n",
    "set4 = {\"apple\", \"bananas\", \"cherry\"}\n",
    "myset = set1 | set2 | set3 |set4\n",
    "print(myset)"
   ]
  },
  {
   "cell_type": "code",
   "execution_count": 553,
   "id": "1ff3d570-16a1-4bbf-850c-e231fcb0b4f1",
   "metadata": {},
   "outputs": [
    {
     "name": "stdout",
     "output_type": "stream",
     "text": [
      "{1, 2, 3, 'a', 'c', 'b'}\n"
     ]
    }
   ],
   "source": [
    "#The union() method allows you to join a set with other data types, like lists or tuples.\n",
    "#The result will be a set.\n",
    "x = {\"a\", \"b\", \"c\"}\n",
    "y = (1, 2, 3)\n",
    "z = x.union(y)\n",
    "print(z)"
   ]
  },
  {
   "cell_type": "code",
   "execution_count": 555,
   "id": "383cb215-1c32-43e8-a01e-8e60365cd469",
   "metadata": {},
   "outputs": [
    {
     "name": "stdout",
     "output_type": "stream",
     "text": [
      "{1, 2, 3, 'c', 'b', 'a'}\n"
     ]
    }
   ],
   "source": [
    "#The update() method inserts all items from one set into another.\n",
    "#The update() changes the original set, and does not return a new set.\n",
    "set1 = {\"a\", \"b\" , \"c\"}\n",
    "set2 = {1, 2, 3}\n",
    "set1.update(set2)\n",
    "print(set1)"
   ]
  },
  {
   "cell_type": "code",
   "execution_count": 557,
   "id": "63d0bef4-febc-48be-b5d8-30ef48fb7d29",
   "metadata": {},
   "outputs": [
    {
     "name": "stdout",
     "output_type": "stream",
     "text": [
      "{'apple'}\n"
     ]
    }
   ],
   "source": [
    "#The intersection() method will return a new set, that only contains the items that are present in both sets.\n",
    "set1 = {\"apple\", \"banana\", \"cherry\"}\n",
    "set2 = {\"google\", \"microsoft\", \"apple\"}\n",
    "set3 = set1.intersection(set2)\n",
    "print(set3)"
   ]
  },
  {
   "cell_type": "code",
   "execution_count": 559,
   "id": "565fafe1-1fe5-4d0d-bd20-0d6ea372f57a",
   "metadata": {},
   "outputs": [
    {
     "name": "stdout",
     "output_type": "stream",
     "text": [
      "{'apple'}\n"
     ]
    }
   ],
   "source": [
    "#You can use the & operator instead of the intersection() method, and you will get the same result.\n",
    "set1 = {\"apple\", \"banana\", \"cherry\"}\n",
    "set2 = {\"google\", \"microsoft\", \"apple\"}\n",
    "set3 = set1 & set2\n",
    "print(set3)"
   ]
  },
  {
   "cell_type": "code",
   "execution_count": 561,
   "id": "897c004d-34ce-40d7-8b63-c8d9d961ce07",
   "metadata": {},
   "outputs": [
    {
     "name": "stdout",
     "output_type": "stream",
     "text": [
      "{'apple'}\n"
     ]
    }
   ],
   "source": [
    "#The intersection_update() method will also keep ONLY the duplicates,\n",
    "#but it will change the original set instead of returning a new set.\n",
    "set1 = {\"apple\", \"banana\", \"cherry\"}\n",
    "set2 = {\"google\", \"microsoft\", \"apple\"}\n",
    "set1.intersection_update(set2)\n",
    "print(set1)"
   ]
  },
  {
   "cell_type": "code",
   "execution_count": 563,
   "id": "c5de24a2-30e6-45af-b097-637ef5bfb37a",
   "metadata": {},
   "outputs": [
    {
     "name": "stdout",
     "output_type": "stream",
     "text": [
      "{False, 1, 'apple'}\n"
     ]
    }
   ],
   "source": [
    "#The values True and 1 are considered the same value. The same goes for False and 0.\n",
    "set1 = {\"apple\", 1,  \"banana\", 0, \"cherry\"}\n",
    "set2 = {False, \"google\", 1, \"apple\", 2, True}\n",
    "set3 = set1.intersection(set2)\n",
    "print(set3)"
   ]
  },
  {
   "cell_type": "code",
   "execution_count": 565,
   "id": "8cf67dcf-de96-4a56-ae4d-d3ad148097c1",
   "metadata": {},
   "outputs": [
    {
     "name": "stdout",
     "output_type": "stream",
     "text": [
      "{'banana', 'cherry'}\n"
     ]
    }
   ],
   "source": [
    "#The difference() method will return a new set that will contain only the items from the first set \n",
    "#that are not present in the other set.\n",
    "set1 = {\"apple\", \"banana\", \"cherry\"}\n",
    "set2 = {\"google\", \"microsoft\", \"apple\"}\n",
    "set3 = set1.difference(set2)\n",
    "print(set3)"
   ]
  },
  {
   "cell_type": "code",
   "execution_count": 567,
   "id": "66de0947-cc29-4250-84c4-99eec52a9995",
   "metadata": {},
   "outputs": [
    {
     "name": "stdout",
     "output_type": "stream",
     "text": [
      "{'banana', 'cherry'}\n"
     ]
    }
   ],
   "source": [
    "#You can use the - operator instead of the difference() method, and you will get the same result.\n",
    "set1 = {\"apple\", \"banana\", \"cherry\"}\n",
    "set2 = {\"google\", \"microsoft\", \"apple\"}\n",
    "set3 = set1 - set2\n",
    "print(set3)"
   ]
  },
  {
   "cell_type": "code",
   "execution_count": 569,
   "id": "a24eb414-7e41-4777-b7a0-c8a46afaa76b",
   "metadata": {},
   "outputs": [
    {
     "name": "stdout",
     "output_type": "stream",
     "text": [
      "{'banana', 'cherry'}\n"
     ]
    }
   ],
   "source": [
    "#The difference_update() method will also keep the items from the first set that are not in the other set, \n",
    "#but it will change the original set instead of returning a new set.\n",
    "set1 = {\"apple\", \"banana\", \"cherry\"}\n",
    "set2 = {\"google\", \"microsoft\", \"apple\"}\n",
    "set1.difference_update(set2)\n",
    "print(set1)"
   ]
  },
  {
   "cell_type": "code",
   "execution_count": 571,
   "id": "07c93e0b-c5ce-4223-a5e9-e215458d5e4e",
   "metadata": {},
   "outputs": [
    {
     "name": "stdout",
     "output_type": "stream",
     "text": [
      "{'banana', 'microsoft', 'google', 'cherry'}\n"
     ]
    }
   ],
   "source": [
    "#The symmetric_difference() method will keep only the elements that are NOT present in both sets.\n",
    "set1 = {\"apple\", \"banana\", \"cherry\"}\n",
    "set2 = {\"google\", \"microsoft\", \"apple\"}\n",
    "set3 = set1.symmetric_difference(set2)\n",
    "print(set3)"
   ]
  },
  {
   "cell_type": "code",
   "execution_count": 573,
   "id": "f64ca701-8cc2-4880-b454-b0b5f67a4a83",
   "metadata": {},
   "outputs": [
    {
     "name": "stdout",
     "output_type": "stream",
     "text": [
      "{'banana', 'microsoft', 'google', 'cherry'}\n"
     ]
    }
   ],
   "source": [
    "#You can use the ^ operator instead of the symmetric_difference() method, and you will get the same result.\n",
    "set1 = {\"apple\", \"banana\", \"cherry\"}\n",
    "set2 = {\"google\", \"microsoft\", \"apple\"}\n",
    "set3 = set1 ^ set2\n",
    "print(set3)"
   ]
  },
  {
   "cell_type": "code",
   "execution_count": 575,
   "id": "6969be4e-2142-4caa-80eb-e636db701a1e",
   "metadata": {},
   "outputs": [
    {
     "name": "stdout",
     "output_type": "stream",
     "text": [
      "{'microsoft', 'google', 'banana', 'cherry'}\n"
     ]
    }
   ],
   "source": [
    "#The symmetric_difference_update() method will also keep all but the duplicates, \n",
    "#but it will change the original set instead of returning a new set.\n",
    "set1 = {\"apple\", \"banana\", \"cherry\"}\n",
    "set2 = {\"google\", \"microsoft\", \"apple\"}\n",
    "set1.symmetric_difference_update(set2)\n",
    "print(set1)"
   ]
  },
  {
   "cell_type": "markdown",
   "id": "88908a38-d203-4350-95fc-bdbc8feb2d8d",
   "metadata": {},
   "source": [
    "Set Methods"
   ]
  },
  {
   "cell_type": "code",
   "execution_count": 578,
   "id": "21445ff1-4a22-44ad-ac7f-a716ccb905f1",
   "metadata": {},
   "outputs": [],
   "source": [
    "#add()\t \t                                Adds an element to the set\n",
    "#clear()\t \t                            Removes all the elements from the set\n",
    "#copy()\t \t                                Returns a copy of the set\n",
    "#difference()\t             -\t            Returns a set containing the difference between two or more sets\n",
    "#difference_update()\t     -=\t            Removes the items in this set that are also included in another, specified set\n",
    "#discard()\t \t                            Remove the specified item\n",
    "#intersection()\t              &\t            Returns a set, that is the intersection of two other sets\n",
    "#intersection_update()\t      &=\t        Removes the items in this set that are not present in other, specified set(s)\n",
    "#isdisjoint()\t \t                        Returns whether two sets have a intersection or not\n",
    "#issubset()\t                  <=\t        Returns whether another set contains this set or not\n",
    "# \t                          <\t            Returns whether all items in this set is present in other, specified set(s)\n",
    "#issuperset()\t              >=\t        Returns whether this set contains another set or not\n",
    "# \t                          >\t            Returns whether all items in other, specified set(s) is present in this set\n",
    "#pop()\t \t                                Removes an element from the set\n",
    "#remove()\t \t                            Removes the specified element\n",
    "#symmetric_difference()\t      ^\t            Returns a set with the symmetric differences of two sets\n",
    "#symmetric_difference_update()^=\t        Inserts the symmetric differences from this set and another\n",
    "#union()\t                   |\t        Return a set containing the union of sets\n",
    "#update()\t                  |=\t        Update the set with the union of this set and others"
   ]
  },
  {
   "cell_type": "markdown",
   "id": "5f840222-b470-4db1-b25a-534ee181f1f3",
   "metadata": {},
   "source": [
    "Python Dictionaries"
   ]
  },
  {
   "cell_type": "code",
   "execution_count": 583,
   "id": "535e43c7-ae6c-4d7d-ab3c-23b3b5b79ed6",
   "metadata": {},
   "outputs": [
    {
     "name": "stdout",
     "output_type": "stream",
     "text": [
      "{'brand': 'Ford', 'model': 'Mustang', 'year': 1964}\n"
     ]
    }
   ],
   "source": [
    "#Dictionaries are written with curly brackets, and have keys and values:\n",
    "thisdict = {\n",
    "  \"brand\": \"Ford\",\n",
    "  \"model\": \"Mustang\",\n",
    "  \"year\": 1964\n",
    "}\n",
    "print(thisdict)"
   ]
  },
  {
   "cell_type": "code",
   "execution_count": 585,
   "id": "07954439-e023-4b9f-b8eb-21cf9b7b292e",
   "metadata": {},
   "outputs": [],
   "source": [
    "#Dictionary items are ordered, changeable, and do not allow duplicates.\n",
    "#Dictionary items are presented in key:value pairs, and can be referred to by using the key name."
   ]
  },
  {
   "cell_type": "code",
   "execution_count": 587,
   "id": "899a0ac1-2d2c-4b56-ba56-e074db7f35d8",
   "metadata": {},
   "outputs": [],
   "source": [
    "#When we say that dictionaries are ordered, it means that the items have a defined order, and that order will not change.\n",
    "#Unordered means that the items do not have a defined order, you cannot refer to an item by using an index."
   ]
  },
  {
   "cell_type": "code",
   "execution_count": 589,
   "id": "67cd10ee-2b3c-4d70-9cdb-dc0e11bf5c99",
   "metadata": {},
   "outputs": [],
   "source": [
    "#Dictionaries are changeable, meaning that we can change, add or remove items after the dictionary has been created.\n",
    "#Dictionaries cannot have two items with the same key:"
   ]
  },
  {
   "cell_type": "code",
   "execution_count": 591,
   "id": "b42c80c7-c813-47ca-a21b-0264725cc89c",
   "metadata": {},
   "outputs": [
    {
     "name": "stdout",
     "output_type": "stream",
     "text": [
      "{'brand': 'Ford', 'model': 'Mustang', 'year': 2020}\n"
     ]
    }
   ],
   "source": [
    "thisdict = {\n",
    "  \"brand\": \"Ford\",\n",
    "  \"model\": \"Mustang\",\n",
    "  \"year\": 1964,\n",
    "  \"year\": 2020\n",
    "}\n",
    "print(thisdict)"
   ]
  },
  {
   "cell_type": "code",
   "execution_count": 593,
   "id": "fb87c4ed-e2c7-45cd-867b-af9895f4ebf0",
   "metadata": {},
   "outputs": [
    {
     "name": "stdout",
     "output_type": "stream",
     "text": [
      "3\n"
     ]
    }
   ],
   "source": [
    "#To determine how many items a dictionary has, use the len() function:\n",
    "print(len(thisdict))"
   ]
  },
  {
   "cell_type": "code",
   "execution_count": 595,
   "id": "af0611af-a64f-484e-b11c-daee69081b18",
   "metadata": {},
   "outputs": [],
   "source": [
    "#The values in dictionary items can be of any data type:\n",
    "thisdict = {\n",
    "  \"brand\": \"Ford\",\n",
    "  \"electric\": False,\n",
    "  \"year\": 1964,\n",
    "  \"colors\": [\"red\", \"white\", \"blue\"]\n",
    "}"
   ]
  },
  {
   "cell_type": "code",
   "execution_count": 599,
   "id": "2821eca0-e7b2-4930-85b9-05bf4e7b6909",
   "metadata": {},
   "outputs": [
    {
     "name": "stdout",
     "output_type": "stream",
     "text": [
      "<class 'dict'>\n"
     ]
    }
   ],
   "source": [
    "#From Python's perspective, dictionaries are defined as objects with the data type 'dict':\n",
    "#<class 'dict'>\n",
    "thisdict = {\n",
    "  \"brand\": \"Ford\",\n",
    "  \"model\": \"Mustang\",\n",
    "  \"year\": 1964\n",
    "}\n",
    "print(type(thisdict))"
   ]
  },
  {
   "cell_type": "code",
   "execution_count": null,
   "id": "8025833c-3f06-4e1f-a395-b528a7041215",
   "metadata": {},
   "outputs": [],
   "source": [
    "#It is also possible to use the dict() constructor to make a dictionary.\n",
    "thisdict = dict(naIt is also possible to use the dict() constructor to make a dictionary.me = \"John\", age = 36, country = \"Norway\")\n",
    "print(thisdict)"
   ]
  },
  {
   "cell_type": "markdown",
   "id": "0cbfd651-1baf-4e44-90ad-69444e903d99",
   "metadata": {},
   "source": [
    "Access Items"
   ]
  },
  {
   "cell_type": "code",
   "execution_count": 602,
   "id": "8419f012-38cc-4156-9326-ff822b855361",
   "metadata": {},
   "outputs": [],
   "source": [
    "#You can access the items of a dictionary by referring to its key name, inside square brackets:\n",
    "thisdict = {\n",
    "  \"brand\": \"Ford\",\n",
    "  \"model\": \"Mustang\",\n",
    "  \"year\": 1964\n",
    "}\n",
    "x = thisdict[\"model\"]"
   ]
  },
  {
   "cell_type": "code",
   "execution_count": 604,
   "id": "085dee42-7a66-4cb3-83d9-fb57bbddd0cc",
   "metadata": {},
   "outputs": [],
   "source": [
    "#There is also a method called get() that will give you the same result:\n",
    "x = thisdict.get(\"model\")"
   ]
  },
  {
   "cell_type": "code",
   "execution_count": 606,
   "id": "ddbf0460-700a-4139-ba84-3b6ae7e3fce7",
   "metadata": {},
   "outputs": [],
   "source": [
    "#The keys() method will return a list of all the keys in the dictionary.\n",
    "x = thisdict.keys()"
   ]
  },
  {
   "cell_type": "code",
   "execution_count": 610,
   "id": "e7c3c256-381f-4d38-a063-f4dd9961cab9",
   "metadata": {},
   "outputs": [
    {
     "name": "stdout",
     "output_type": "stream",
     "text": [
      "dict_keys(['brand', 'model', 'year'])\n",
      "dict_keys(['brand', 'model', 'year', 'color'])\n"
     ]
    }
   ],
   "source": [
    "#The list of the keys is a view of the dictionary, \n",
    "#meaning that any changes done to the dictionary will be reflected in the keys list.\n",
    "car = {\n",
    "\"brand\": \"Ford\",\n",
    "\"model\": \"Mustang\",\n",
    "\"year\": 1964\n",
    "}\n",
    "x = car.keys()\n",
    "print(x) #before the change\n",
    "car[\"color\"] = \"white\"\n",
    "print(x) #after the change"
   ]
  },
  {
   "cell_type": "code",
   "execution_count": 612,
   "id": "56c26f26-64d1-4218-ad5c-72cdbc0caa8c",
   "metadata": {},
   "outputs": [],
   "source": [
    "#The values() method will return a list of all the values in the dictionary.\n",
    "x = thisdict.values()"
   ]
  },
  {
   "cell_type": "code",
   "execution_count": 614,
   "id": "2e4cbdd6-82bc-4ed9-877f-6e24bdf84028",
   "metadata": {},
   "outputs": [
    {
     "name": "stdout",
     "output_type": "stream",
     "text": [
      "dict_values(['Ford', 'Mustang', 1964])\n",
      "dict_values(['Ford', 'Mustang', 2020])\n"
     ]
    }
   ],
   "source": [
    "#The list of the values is a view of the dictionary, \n",
    "#meaning that any changes done to the dictionary will be reflected in the values list.\n",
    "car = {\n",
    "\"brand\": \"Ford\",\n",
    "\"model\": \"Mustang\",\n",
    "\"year\": 1964\n",
    "}\n",
    "x = car.values()\n",
    "print(x) #before the change\n",
    "car[\"year\"] = 2020\n",
    "print(x) #after the change"
   ]
  },
  {
   "cell_type": "code",
   "execution_count": 616,
   "id": "2a2416e9-83bb-49bb-a4cd-4f6000143a6d",
   "metadata": {},
   "outputs": [
    {
     "name": "stdout",
     "output_type": "stream",
     "text": [
      "dict_values(['Ford', 'Mustang', 1964])\n",
      "dict_values(['Ford', 'Mustang', 1964, 'red'])\n"
     ]
    }
   ],
   "source": [
    "#Add a new item to the original dictionary, and see that the values list gets updated as well:\n",
    "car = {\n",
    "\"brand\": \"Ford\",\n",
    "\"model\": \"Mustang\",\n",
    "\"year\": 1964\n",
    "}\n",
    "x = car.values()\n",
    "print(x) #before the change\n",
    "car[\"color\"] = \"red\"\n",
    "print(x) #after the change"
   ]
  },
  {
   "cell_type": "code",
   "execution_count": 618,
   "id": "f3dfac41-7731-470b-bc98-81ac7de652c4",
   "metadata": {},
   "outputs": [],
   "source": [
    "#The items() method will return each item in a dictionary, as tuples in a list.\n",
    "x = thisdict.items()"
   ]
  },
  {
   "cell_type": "code",
   "execution_count": 620,
   "id": "eacc6249-5c2d-47c1-87eb-938739365155",
   "metadata": {},
   "outputs": [
    {
     "name": "stdout",
     "output_type": "stream",
     "text": [
      "dict_items([('brand', 'Ford'), ('model', 'Mustang'), ('year', 1964)])\n",
      "dict_items([('brand', 'Ford'), ('model', 'Mustang'), ('year', 2020)])\n"
     ]
    }
   ],
   "source": [
    "#The returned list is a view of the items of the dictionary, \n",
    "#meaning that any changes done to the dictionary will be reflected in the items list.\n",
    "car = {\n",
    "\"brand\": \"Ford\",\n",
    "\"model\": \"Mustang\",\n",
    "\"year\": 1964\n",
    "}\n",
    "x = car.items()\n",
    "print(x) #before the change\n",
    "car[\"year\"] = 2020\n",
    "print(x) #after the change"
   ]
  },
  {
   "cell_type": "code",
   "execution_count": 622,
   "id": "562bfd71-ca0c-4bf8-8a06-4a6a8af2371e",
   "metadata": {},
   "outputs": [
    {
     "name": "stdout",
     "output_type": "stream",
     "text": [
      "dict_items([('brand', 'Ford'), ('model', 'Mustang'), ('year', 1964)])\n",
      "dict_items([('brand', 'Ford'), ('model', 'Mustang'), ('year', 1964), ('color', 'red')])\n"
     ]
    }
   ],
   "source": [
    "#Add a new item to the original dictionary, and see that the items list gets updated as well:\n",
    "car = {\n",
    "\"brand\": \"Ford\",\n",
    "\"model\": \"Mustang\",\n",
    "\"year\": 1964\n",
    "}\n",
    "x = car.items()\n",
    "print(x) #before the change\n",
    "car[\"color\"] = \"red\"\n",
    "print(x) #after the change"
   ]
  },
  {
   "cell_type": "code",
   "execution_count": 624,
   "id": "eace62c0-35c7-431a-96fb-4781ae83a8c0",
   "metadata": {},
   "outputs": [
    {
     "name": "stdout",
     "output_type": "stream",
     "text": [
      "Yes, 'model' is one of the keys in the thisdict dictionary\n"
     ]
    }
   ],
   "source": [
    "#To determine if a specified key is present in a dictionary use the in keyword:\n",
    "thisdict = {\n",
    "  \"brand\": \"Ford\",\n",
    "  \"model\": \"Mustang\",\n",
    "  \"year\": 1964\n",
    "}\n",
    "if \"model\" in thisdict:\n",
    "  print(\"Yes, 'model' is one of the keys in the thisdict dictionary\")"
   ]
  },
  {
   "cell_type": "markdown",
   "id": "9dddea7f-b4c8-4a81-846b-f5d37f44050a",
   "metadata": {},
   "source": [
    "Change Items"
   ]
  },
  {
   "cell_type": "code",
   "execution_count": 627,
   "id": "d9ad5733-13fa-462c-afaf-b7c324940450",
   "metadata": {},
   "outputs": [],
   "source": [
    "#You can change the value of a specific item by referring to its key name:\n",
    "thisdict = {\n",
    "  \"brand\": \"Ford\",\n",
    "  \"model\": \"Mustang\",\n",
    "  \"year\": 1964\n",
    "}\n",
    "thisdict[\"year\"] = 2018"
   ]
  },
  {
   "cell_type": "code",
   "execution_count": 631,
   "id": "a9416747-8467-4372-8415-b5eb40ba3728",
   "metadata": {},
   "outputs": [],
   "source": [
    "#The update() method will update the dictionary with the items from the given argument.\n",
    "#The argument must be a dictionary, or an iterable object with key:value pairs.\n",
    "thisdict = {\n",
    "  \"brand\": \"Ford\",\n",
    "  \"model\": \"Mustang\",\n",
    "  \"year\": 1964\n",
    "}\n",
    "thisdict.update({\"year\": 2020})"
   ]
  },
  {
   "cell_type": "markdown",
   "id": "ba4a6956-f3f1-4fe2-b6bf-940662b49ee9",
   "metadata": {},
   "source": [
    "Add Items"
   ]
  },
  {
   "cell_type": "code",
   "execution_count": 634,
   "id": "693875f0-0a3d-4591-a2ea-854338b6b6b7",
   "metadata": {},
   "outputs": [
    {
     "name": "stdout",
     "output_type": "stream",
     "text": [
      "{'brand': 'Ford', 'model': 'Mustang', 'year': 1964, 'color': 'red'}\n"
     ]
    }
   ],
   "source": [
    "#Adding an item to the dictionary is done by using a new index key and assigning a value to it:\n",
    "thisdict = {\n",
    "  \"brand\": \"Ford\",\n",
    "  \"model\": \"Mustang\",\n",
    "  \"year\": 1964\n",
    "}\n",
    "thisdict[\"color\"] = \"red\"\n",
    "print(thisdict)"
   ]
  },
  {
   "cell_type": "code",
   "execution_count": 638,
   "id": "42e1ccb7-f03e-40d2-8952-a4f53dff751a",
   "metadata": {},
   "outputs": [],
   "source": [
    "#The update() method will update the dictionary with the items from a given argument. \n",
    "#If the item does not exist, the item will be added.\n",
    "#The argument must be a dictionary, or an iterable object with key:value pairs.\n",
    "thisdict = {\n",
    "  \"brand\": \"Ford\",\n",
    "  \"model\": \"Mustang\",\n",
    "  \"year\": 1964\n",
    "}\n",
    "thisdict.update({\"color\": \"red\"})"
   ]
  },
  {
   "cell_type": "markdown",
   "id": "cc6406b4-c0dd-46a0-a2f9-3c4ae636f893",
   "metadata": {},
   "source": [
    "Remove Items"
   ]
  },
  {
   "cell_type": "code",
   "execution_count": 643,
   "id": "3c4f5217-8078-4394-bc48-a302aafdcfea",
   "metadata": {},
   "outputs": [
    {
     "name": "stdout",
     "output_type": "stream",
     "text": [
      "{'brand': 'Ford', 'year': 1964}\n"
     ]
    }
   ],
   "source": [
    "#The pop() method removes the item with the specified key name:\n",
    "thisdict = {\n",
    "  \"brand\": \"Ford\",\n",
    "  \"model\": \"Mustang\",\n",
    "  \"year\": 1964\n",
    "}\n",
    "thisdict.pop(\"model\")\n",
    "print(thisdict)"
   ]
  },
  {
   "cell_type": "code",
   "execution_count": 645,
   "id": "4d291d2a-5e3c-44bb-bcad-6bcfc40c5384",
   "metadata": {},
   "outputs": [
    {
     "name": "stdout",
     "output_type": "stream",
     "text": [
      "{'brand': 'Ford', 'model': 'Mustang'}\n"
     ]
    }
   ],
   "source": [
    "#The popitem() method removes the last inserted item (in versions before 3.7, a random item is removed instead):\n",
    "thisdict = {\n",
    "  \"brand\": \"Ford\",\n",
    "  \"model\": \"Mustang\",\n",
    "  \"year\": 1964\n",
    "}\n",
    "thisdict.popitem()\n",
    "print(thisdict)"
   ]
  },
  {
   "cell_type": "code",
   "execution_count": 647,
   "id": "07006135-a7d6-4857-b0e4-cfd7c6237982",
   "metadata": {},
   "outputs": [
    {
     "name": "stdout",
     "output_type": "stream",
     "text": [
      "{'brand': 'Ford', 'year': 1964}\n"
     ]
    }
   ],
   "source": [
    "#The del keyword removes the item with the specified key name:\n",
    "thisdict = {\n",
    "  \"brand\": \"Ford\",\n",
    "  \"model\": \"Mustang\",\n",
    "  \"year\": 1964\n",
    "}\n",
    "del thisdict[\"model\"]\n",
    "print(thisdict)"
   ]
  },
  {
   "cell_type": "code",
   "execution_count": 698,
   "id": "f586ae73-bfed-4b04-8850-79ee2898d6d9",
   "metadata": {},
   "outputs": [
    {
     "ename": "NameError",
     "evalue": "name 'thisdict' is not defined",
     "output_type": "error",
     "traceback": [
      "\u001b[1;31m---------------------------------------------------------------------------\u001b[0m",
      "\u001b[1;31mNameError\u001b[0m                                 Traceback (most recent call last)",
      "Cell \u001b[1;32mIn[698], line 8\u001b[0m\n\u001b[0;32m      2\u001b[0m thisdict \u001b[38;5;241m=\u001b[39m {\n\u001b[0;32m      3\u001b[0m   \u001b[38;5;124m\"\u001b[39m\u001b[38;5;124mbrand\u001b[39m\u001b[38;5;124m\"\u001b[39m: \u001b[38;5;124m\"\u001b[39m\u001b[38;5;124mFord\u001b[39m\u001b[38;5;124m\"\u001b[39m,\n\u001b[0;32m      4\u001b[0m   \u001b[38;5;124m\"\u001b[39m\u001b[38;5;124mmodel\u001b[39m\u001b[38;5;124m\"\u001b[39m: \u001b[38;5;124m\"\u001b[39m\u001b[38;5;124mMustang\u001b[39m\u001b[38;5;124m\"\u001b[39m,\n\u001b[0;32m      5\u001b[0m   \u001b[38;5;124m\"\u001b[39m\u001b[38;5;124myear\u001b[39m\u001b[38;5;124m\"\u001b[39m: \u001b[38;5;241m1964\u001b[39m\n\u001b[0;32m      6\u001b[0m }\n\u001b[0;32m      7\u001b[0m \u001b[38;5;28;01mdel\u001b[39;00m thisdict\n\u001b[1;32m----> 8\u001b[0m \u001b[38;5;28mprint\u001b[39m(thisdict)\n",
      "\u001b[1;31mNameError\u001b[0m: name 'thisdict' is not defined"
     ]
    }
   ],
   "source": [
    "#The del keyword can also delete the dictionary completely:\n",
    "thisdict = {\n",
    "  \"brand\": \"Ford\",\n",
    "  \"model\": \"Mustang\",\n",
    "  \"year\": 1964\n",
    "}\n",
    "del thisdict\n",
    "print(thisdict) #this will cause an error because \"thisdict\" no longer exists."
   ]
  },
  {
   "cell_type": "code",
   "execution_count": 651,
   "id": "d5b02356-af99-450c-b783-ef055a8aca57",
   "metadata": {},
   "outputs": [
    {
     "name": "stdout",
     "output_type": "stream",
     "text": [
      "{}\n"
     ]
    }
   ],
   "source": [
    "#The clear() method empties the dictionary:\n",
    "thisdict = {\n",
    "  \"brand\": \"Ford\",\n",
    "  \"model\": \"Mustang\",\n",
    "  \"year\": 1964\n",
    "}\n",
    "thisdict.clear()\n",
    "print(thisdict)"
   ]
  },
  {
   "cell_type": "markdown",
   "id": "27ff2ea9-66b5-44b4-a011-f4f7fd80ee0d",
   "metadata": {},
   "source": [
    "Loop Dictionaries"
   ]
  },
  {
   "cell_type": "code",
   "execution_count": 656,
   "id": "337b7c77-af21-4842-a1d4-def253f2ab12",
   "metadata": {},
   "outputs": [],
   "source": [
    "#You can loop through a dictionary by using a for loop.\n",
    "#When looping through a dictionary, the return value are the keys of the dictionary,\n",
    "#but there are methods to return the values as well.\n",
    "for x in thisdict:\n",
    "  print(x)"
   ]
  },
  {
   "cell_type": "code",
   "execution_count": 660,
   "id": "d3e44bf9-51b7-43ae-a73b-ada7e74c77a6",
   "metadata": {},
   "outputs": [],
   "source": [
    "#Print all values in the dictionary, one by one:\n",
    "for x in thisdict:\n",
    "  print(thisdict[x])"
   ]
  },
  {
   "cell_type": "code",
   "execution_count": 662,
   "id": "a958b2e8-8629-4077-a06d-71f68e115bf8",
   "metadata": {},
   "outputs": [],
   "source": [
    "#You can also use the values() method to return values of a dictionary:\n",
    "for x in thisdict.values():\n",
    "  print(x)"
   ]
  },
  {
   "cell_type": "code",
   "execution_count": 664,
   "id": "10c0507f-aa84-48df-a859-c78c507cc799",
   "metadata": {},
   "outputs": [],
   "source": [
    "#You can use the keys() method to return the keys of a dictionary:\n",
    "for x in thisdict.keys():\n",
    "  print(x)"
   ]
  },
  {
   "cell_type": "code",
   "execution_count": 666,
   "id": "a3d5971b-33ec-4844-8278-f16057c5ba7f",
   "metadata": {},
   "outputs": [],
   "source": [
    "#Loop through both keys and values, by using the items() method:\n",
    "for x, y in thisdict.items():\n",
    "  print(x, y)"
   ]
  },
  {
   "cell_type": "markdown",
   "id": "11260af6-3037-4968-9150-05e5f452c6d7",
   "metadata": {},
   "source": [
    "Copy Dictionaries"
   ]
  },
  {
   "cell_type": "code",
   "execution_count": 669,
   "id": "e792edfb-ab0c-41da-a399-6c4dc70b0d8c",
   "metadata": {},
   "outputs": [
    {
     "name": "stdout",
     "output_type": "stream",
     "text": [
      "{'brand': 'Ford', 'model': 'Mustang', 'year': 1964}\n"
     ]
    }
   ],
   "source": [
    "#You cannot copy a dictionary simply by typing dict2 = dict1, \n",
    "#because: dict2 will only be a reference to dict1, and changes made in dict1 will automatically also be made in dict2.\n",
    "#There are ways to make a copy, one way is to use the built-in Dictionary method copy().\n",
    "thisdict = {\n",
    "  \"brand\": \"Ford\",\n",
    "  \"model\": \"Mustang\",\n",
    "  \"year\": 1964\n",
    "}\n",
    "mydict = thisdict.copy()\n",
    "print(mydict)"
   ]
  },
  {
   "cell_type": "code",
   "execution_count": 671,
   "id": "ac960ad3-e47b-4090-a34c-39abbd3607ed",
   "metadata": {},
   "outputs": [
    {
     "name": "stdout",
     "output_type": "stream",
     "text": [
      "{'brand': 'Ford', 'model': 'Mustang', 'year': 1964}\n"
     ]
    }
   ],
   "source": [
    "#Another way to make a copy is to use the built-in function dict().\n",
    "thisdict = {\n",
    "  \"brand\": \"Ford\",\n",
    "  \"model\": \"Mustang\",\n",
    "  \"year\": 1964\n",
    "}\n",
    "mydict = dict(thisdict)\n",
    "print(mydict)"
   ]
  },
  {
   "cell_type": "markdown",
   "id": "4b1ff276-1432-43e9-b4c4-b9e4b2269fd4",
   "metadata": {},
   "source": [
    "Nested Dictionaries"
   ]
  },
  {
   "cell_type": "code",
   "execution_count": 676,
   "id": "a5e0b6f5-946d-4deb-ba8b-6cb713f3820c",
   "metadata": {},
   "outputs": [],
   "source": [
    "#A dictionary can contain dictionaries, this is called nested dictionaries.\n",
    "myfamily = {\n",
    "  \"child1\" : {\n",
    "    \"name\" : \"Emil\",\n",
    "    \"year\" : 2004\n",
    "  },\n",
    "  \"child2\" : {\n",
    "    \"name\" : \"Tobias\",\n",
    "    \"year\" : 2007\n",
    "  },\n",
    "  \"child3\" : {\n",
    "    \"name\" : \"Linus\",\n",
    "    \"year\" : 2011\n",
    "  }\n",
    "}"
   ]
  },
  {
   "cell_type": "code",
   "execution_count": 680,
   "id": "76e4373e-de29-462a-ae8c-6ffa67bb2c72",
   "metadata": {},
   "outputs": [],
   "source": [
    "#Create three dictionaries, then create one dictionary that will contain the other three dictionaries:\n",
    "child1 = {\n",
    "  \"name\" : \"Emil\",\n",
    "  \"year\" : 2004\n",
    "}\n",
    "child2 = {\n",
    "  \"name\" : \"Tobias\",\n",
    "  \"year\" : 2007\n",
    "}\n",
    "child3 = {\n",
    "  \"name\" : \"Linus\",\n",
    "  \"year\" : 2011\n",
    "}\n",
    "\n",
    "myfamily = {\n",
    "  \"child1\" : child1,\n",
    "  \"child2\" : child2,\n",
    "  \"child3\" : child3\n",
    "}"
   ]
  },
  {
   "cell_type": "code",
   "execution_count": 684,
   "id": "19d244a9-84e9-4d36-8576-9abbb8fa602d",
   "metadata": {},
   "outputs": [
    {
     "name": "stdout",
     "output_type": "stream",
     "text": [
      "Tobias\n"
     ]
    }
   ],
   "source": [
    "#To access items from a nested dictionary, you use the name of the dictionaries, starting with the outer dictionary:\n",
    "print(myfamily[\"child2\"][\"name\"])"
   ]
  },
  {
   "cell_type": "code",
   "execution_count": 686,
   "id": "2d9842f4-4853-4bb1-9993-ad43252004e0",
   "metadata": {},
   "outputs": [
    {
     "name": "stdout",
     "output_type": "stream",
     "text": [
      "child1\n",
      "name: Emil\n",
      "year: 2004\n",
      "child2\n",
      "name: Tobias\n",
      "year: 2007\n",
      "child3\n",
      "name: Linus\n",
      "year: 2011\n"
     ]
    }
   ],
   "source": [
    "#You can loop through a dictionary by using the items() method like this:\n",
    "for x, obj in myfamily.items():\n",
    "  print(x)\n",
    "\n",
    "  for y in obj:\n",
    "    print(y + ':', obj[y])"
   ]
  },
  {
   "cell_type": "markdown",
   "id": "84a646fa-d1c8-4c33-9561-85361dbc7dd9",
   "metadata": {},
   "source": [
    "Dictionary Methods"
   ]
  },
  {
   "cell_type": "code",
   "execution_count": 689,
   "id": "bb8735de-3e83-4ca5-8abb-bdcc95c73821",
   "metadata": {},
   "outputs": [],
   "source": [
    "#clear()\t     Removes all the elements from the dictionary\n",
    "#copy()\t         Returns a copy of the dictionary\n",
    "#fromkeys()\t     Returns a dictionary with the specified keys and value\n",
    "#get()\t         Returns the value of the specified key\n",
    "#items()\t     Returns a list containing a tuple for each key value pair\n",
    "#keys()\t         Returns a list containing the dictionary's keys\n",
    "#pop()\t         Removes the element with the specified key\n",
    "#popitem()\t     Removes the last inserted key-value pair\n",
    "#setdefault()\t Returns the value of the specified key. If the key does not exist: insert the key, with the specified value\n",
    "#update()\t     Updates the dictionary with the specified key-value pairs\n",
    "#values()\t     Returns a list of all the values in the dictionary"
   ]
  },
  {
   "cell_type": "markdown",
   "id": "5b79a42f-95d0-48c8-9391-6417c558581e",
   "metadata": {},
   "source": [
    "Python If...Else"
   ]
  },
  {
   "cell_type": "code",
   "execution_count": 692,
   "id": "4b9554b4-507b-492d-9a4f-23a3e1ca2c98",
   "metadata": {},
   "outputs": [],
   "source": [
    "#Equals:                    a == b\n",
    "#Not Equals:                a != b\n",
    "#Less than:                 a < b\n",
    "#Less than or equal to:     a <= b\n",
    "#Greater than:              a > b\n",
    "#Greater than or equal to:  a >= b"
   ]
  },
  {
   "cell_type": "code",
   "execution_count": 694,
   "id": "c5b75a67-63a7-4b75-b7e7-18c59cac50a2",
   "metadata": {},
   "outputs": [
    {
     "name": "stdout",
     "output_type": "stream",
     "text": [
      "b is greater than a\n"
     ]
    }
   ],
   "source": [
    "a = 33\n",
    "b = 200\n",
    "if b > a:\n",
    "  print(\"b is greater than a\")"
   ]
  },
  {
   "cell_type": "code",
   "execution_count": 700,
   "id": "9ae6737b-5d23-454f-b974-231f48b978d6",
   "metadata": {},
   "outputs": [
    {
     "ename": "IndentationError",
     "evalue": "expected an indented block after 'if' statement on line 4 (2455394165.py, line 5)",
     "output_type": "error",
     "traceback": [
      "\u001b[1;36m  Cell \u001b[1;32mIn[700], line 5\u001b[1;36m\u001b[0m\n\u001b[1;33m    print(\"b is greater than a\") # you will get an error\u001b[0m\n\u001b[1;37m    ^\u001b[0m\n\u001b[1;31mIndentationError\u001b[0m\u001b[1;31m:\u001b[0m expected an indented block after 'if' statement on line 4\n"
     ]
    }
   ],
   "source": [
    "#If statement, without indentation (will raise an error):\n",
    "a= 33\n",
    "b = 200\n",
    "if b > a:\n",
    "print(\"b is greater than a\") # you will get an error"
   ]
  },
  {
   "cell_type": "code",
   "execution_count": 702,
   "id": "ed113cc1-97bb-4cfa-a5e0-afe1bc6e6174",
   "metadata": {},
   "outputs": [
    {
     "name": "stdout",
     "output_type": "stream",
     "text": [
      "a and b are equal\n"
     ]
    }
   ],
   "source": [
    "#The elif keyword is Python's way of saying \"if the previous conditions were not true, then try this condition\".\n",
    "a = 33\n",
    "b = 33\n",
    "if b > a:\n",
    "  print(\"b is greater than a\")\n",
    "elif a == b:\n",
    "  print(\"a and b are equal\")"
   ]
  },
  {
   "cell_type": "code",
   "execution_count": 706,
   "id": "28490ad0-73d0-4dea-9162-4e8ff2c593ab",
   "metadata": {},
   "outputs": [
    {
     "name": "stdout",
     "output_type": "stream",
     "text": [
      "a is greater than b\n"
     ]
    }
   ],
   "source": [
    "#The else keyword catches anything which isn't caught by the preceding conditions.\n",
    "a = 200\n",
    "b = 33\n",
    "if b > a:\n",
    "  print(\"b is greater than a\")\n",
    "elif a == b:\n",
    "  print(\"a and b are equal\")\n",
    "else:\n",
    "  print(\"a is greater than b\")\n",
    "#In this example a is equal to b, so the first condition is not true, \n",
    "#but the elif condition is true, so we print to screen that \"a and b are equal\"."
   ]
  },
  {
   "cell_type": "code",
   "execution_count": 708,
   "id": "1b9e6ac1-4923-4faa-a6ce-42fcd5f753fb",
   "metadata": {},
   "outputs": [
    {
     "name": "stdout",
     "output_type": "stream",
     "text": [
      "b is not greater than a\n"
     ]
    }
   ],
   "source": [
    "#The else keyword catches anything which isn't caught by the preceding conditions.\n",
    "a = 200\n",
    "b = 33\n",
    "if b > a:\n",
    "  print(\"b is greater than a\")\n",
    "else:\n",
    "  print(\"b is not greater than a\")\n",
    "#In this example a is greater than b, so the first condition is not true, \n",
    "#also the elif condition is not true, so we go to the else condition and print to screen that \"a is greater than b\"."
   ]
  },
  {
   "cell_type": "code",
   "execution_count": 710,
   "id": "6a15a07f-3efb-4d1a-83f2-131ceea58edd",
   "metadata": {},
   "outputs": [
    {
     "name": "stdout",
     "output_type": "stream",
     "text": [
      "b is not greater than a\n"
     ]
    }
   ],
   "source": [
    "#You can also have an else without the elif:\n",
    "a = 200\n",
    "b = 33\n",
    "if b > a:\n",
    "  print(\"b is greater than a\")\n",
    "else:\n",
    "  print(\"b is not greater than a\")"
   ]
  },
  {
   "cell_type": "code",
   "execution_count": 712,
   "id": "37e83ede-b308-4f82-ae70-a5f2a4014c2b",
   "metadata": {},
   "outputs": [
    {
     "name": "stdout",
     "output_type": "stream",
     "text": [
      "a is greater than b\n"
     ]
    }
   ],
   "source": [
    "#If you have only one statement to execute, you can put it on the same line as the if statement.\n",
    "if a > b: print(\"a is greater than b\")"
   ]
  },
  {
   "cell_type": "code",
   "execution_count": 714,
   "id": "e3d2ebc0-c292-4355-aeb9-6e3e5c58a434",
   "metadata": {},
   "outputs": [
    {
     "name": "stdout",
     "output_type": "stream",
     "text": [
      "B\n"
     ]
    }
   ],
   "source": [
    "#If you have only one statement to execute, one for if, and one for else, you can put it all on the same line:\n",
    "a = 2\n",
    "b = 330\n",
    "print(\"A\") if a > b else print(\"B\")"
   ]
  },
  {
   "cell_type": "code",
   "execution_count": 716,
   "id": "8c59292f-e81c-4fac-a813-38dd81199f17",
   "metadata": {},
   "outputs": [
    {
     "name": "stdout",
     "output_type": "stream",
     "text": [
      "=\n"
     ]
    }
   ],
   "source": [
    "#You can also have multiple else statements on the same line:\n",
    "a = 330\n",
    "b = 330\n",
    "print(\"A\") if a > b else print(\"=\") if a == b else print(\"B\")"
   ]
  },
  {
   "cell_type": "code",
   "execution_count": 718,
   "id": "c9e44505-e8db-4c6e-975f-180c8a95bb3e",
   "metadata": {},
   "outputs": [
    {
     "name": "stdout",
     "output_type": "stream",
     "text": [
      "Both conditions are True\n"
     ]
    }
   ],
   "source": [
    "#The and keyword is a logical operator, and is used to combine conditional statements:\n",
    "#Test if a is greater than b, AND if c is greater than a:\n",
    "a = 200\n",
    "b = 33\n",
    "c = 500\n",
    "if a > b and c > a:\n",
    "  print(\"Both conditions are True\")"
   ]
  },
  {
   "cell_type": "code",
   "execution_count": 720,
   "id": "abd7f97d-3e63-45a5-a6dd-0dcdbaf10b01",
   "metadata": {},
   "outputs": [
    {
     "name": "stdout",
     "output_type": "stream",
     "text": [
      "At least one of the conditions is True\n"
     ]
    }
   ],
   "source": [
    "#The or keyword is a logical operator, and is used to combine conditional statements:\n",
    "#Test if a is greater than b, OR if a is greater than c:\n",
    "a = 200\n",
    "b = 33\n",
    "c = 500\n",
    "if a > b or a > c:\n",
    "  print(\"At least one of the conditions is True\")"
   ]
  },
  {
   "cell_type": "code",
   "execution_count": 722,
   "id": "354683e5-1a55-49db-a67b-6381dfd3db42",
   "metadata": {},
   "outputs": [
    {
     "name": "stdout",
     "output_type": "stream",
     "text": [
      "a is NOT greater than b\n"
     ]
    }
   ],
   "source": [
    "#The not keyword is a logical operator, and is used to reverse the result of the conditional statement:\n",
    "#Test if a is NOT greater than b:\n",
    "a = 33\n",
    "b = 200\n",
    "if not a > b:\n",
    "  print(\"a is NOT greater than b\")"
   ]
  },
  {
   "cell_type": "code",
   "execution_count": 726,
   "id": "f09fe5c8-ad77-459e-8a64-3e517f07419a",
   "metadata": {},
   "outputs": [
    {
     "name": "stdout",
     "output_type": "stream",
     "text": [
      "Above ten,\n",
      "and also above 20!\n"
     ]
    }
   ],
   "source": [
    "#You can have if statements inside if statements, this is called nested if statements.\n",
    "x = 41\n",
    "if x > 10:\n",
    "  print(\"Above ten,\")\n",
    "  if x > 20:\n",
    "    print(\"and also above 20!\")\n",
    "  else:\n",
    "    print(\"but not above 20.\")"
   ]
  },
  {
   "cell_type": "code",
   "execution_count": 734,
   "id": "be51cb9d-9343-4474-a91c-76b81591e379",
   "metadata": {},
   "outputs": [],
   "source": [
    "#if statements cannot be empty, but if you for some reason have an if statement with no content, \n",
    "#put in the pass statement to avoid getting an error.\n",
    "a = 33\n",
    "b = 200\n",
    "if b > a:\n",
    "  pass"
   ]
  },
  {
   "cell_type": "markdown",
   "id": "0159ac2a-fa37-4eb6-aac6-3a775586444d",
   "metadata": {},
   "source": [
    "Python Whille Loops"
   ]
  },
  {
   "cell_type": "code",
   "execution_count": 739,
   "id": "c3c3ccfe-a56b-49d9-8923-a5cfc36bda7d",
   "metadata": {},
   "outputs": [],
   "source": [
    "#Python has two primitive loop commands:\n",
    "#while loops\n",
    "#for loops"
   ]
  },
  {
   "cell_type": "code",
   "execution_count": 741,
   "id": "b0458797-864e-446a-921c-c5654c3c01fa",
   "metadata": {},
   "outputs": [
    {
     "name": "stdout",
     "output_type": "stream",
     "text": [
      "1\n",
      "2\n",
      "3\n",
      "4\n",
      "5\n"
     ]
    }
   ],
   "source": [
    "#With the while loop we can execute a set of statements as long as a condition is true.\n",
    "i = 1\n",
    "while i < 6:\n",
    "  print(i)\n",
    "  i += 1"
   ]
  },
  {
   "cell_type": "code",
   "execution_count": 745,
   "id": "247d3409-c36a-4321-9447-11d962a17f37",
   "metadata": {},
   "outputs": [
    {
     "name": "stdout",
     "output_type": "stream",
     "text": [
      "1\n",
      "2\n",
      "3\n"
     ]
    }
   ],
   "source": [
    "#With the break statement we can stop the loop even if the while condition is true:\n",
    "i = 1\n",
    "while i < 6:\n",
    "  print(i)\n",
    "  if i == 3:\n",
    "    break\n",
    "  i += 1"
   ]
  },
  {
   "cell_type": "code",
   "execution_count": 747,
   "id": "f8277393-c319-4a47-a0b2-3d3736c702fe",
   "metadata": {},
   "outputs": [
    {
     "name": "stdout",
     "output_type": "stream",
     "text": [
      "1\n",
      "2\n",
      "4\n",
      "5\n",
      "6\n"
     ]
    }
   ],
   "source": [
    "#With the continue statement we can stop the current iteration, and continue with the next:\n",
    "i = 0\n",
    "while i < 6:\n",
    "  i += 1\n",
    "  if i == 3:\n",
    "    continue\n",
    "  print(i)"
   ]
  },
  {
   "cell_type": "code",
   "execution_count": 749,
   "id": "9355db48-2932-429c-8737-172bb26ad5c4",
   "metadata": {},
   "outputs": [
    {
     "name": "stdout",
     "output_type": "stream",
     "text": [
      "1\n",
      "2\n",
      "3\n",
      "4\n",
      "5\n",
      "i is no longer less than 6\n"
     ]
    }
   ],
   "source": [
    "#With the else statement we can run a block of code once when the condition no longer is true:\n",
    "i = 1\n",
    "while i < 6:\n",
    "  print(i)\n",
    "  i += 1\n",
    "else:\n",
    "  print(\"i is no longer less than 6\")"
   ]
  },
  {
   "cell_type": "markdown",
   "id": "47ad492c-5859-4cf5-9736-b28854994313",
   "metadata": {},
   "source": [
    "Python For Loops"
   ]
  },
  {
   "cell_type": "code",
   "execution_count": 752,
   "id": "4de5ac57-5cdc-4fe3-acb9-04fb138ea4b2",
   "metadata": {},
   "outputs": [],
   "source": [
    "#A for loop is used for iterating over a sequence (that is either a list, a tuple, a dictionary, a set, or a string).\n",
    "#This is less like the for keyword in other programming languages, and works more like an \n",
    "#iterator method as found in other object-orientated programming languages.\n",
    "#With the for loop we can execute a set of statements, once for each item in a list, tuple, set etc."
   ]
  },
  {
   "cell_type": "code",
   "execution_count": 754,
   "id": "fa8232a2-ce54-4398-80a8-d37833430ea4",
   "metadata": {},
   "outputs": [
    {
     "name": "stdout",
     "output_type": "stream",
     "text": [
      "apple\n",
      "banana\n",
      "cherry\n"
     ]
    }
   ],
   "source": [
    "fruits = [\"apple\", \"banana\", \"cherry\"]\n",
    "for x in fruits:\n",
    "  print(x)"
   ]
  },
  {
   "cell_type": "code",
   "execution_count": 756,
   "id": "e9fb12d8-55d7-4332-acf8-7c653c77e795",
   "metadata": {},
   "outputs": [
    {
     "name": "stdout",
     "output_type": "stream",
     "text": [
      "b\n",
      "a\n",
      "n\n",
      "a\n",
      "n\n",
      "a\n"
     ]
    }
   ],
   "source": [
    "#Even strings are iterable objects, they contain a sequence of characters:\n",
    "for x in \"banana\":\n",
    "  print(x)"
   ]
  },
  {
   "cell_type": "code",
   "execution_count": 758,
   "id": "1be93531-fa7a-4876-a1e8-93b79704e92a",
   "metadata": {},
   "outputs": [
    {
     "name": "stdout",
     "output_type": "stream",
     "text": [
      "apple\n",
      "banana\n"
     ]
    }
   ],
   "source": [
    "#With the break statement we can stop the loop before it has looped through all the items:\n",
    "fruits = [\"apple\", \"banana\", \"cherry\"]\n",
    "for x in fruits:\n",
    "  print(x)\n",
    "  if x == \"banana\":\n",
    "    break"
   ]
  },
  {
   "cell_type": "code",
   "execution_count": 760,
   "id": "54bbd5e9-a077-43d3-918c-024623ac28ff",
   "metadata": {},
   "outputs": [
    {
     "name": "stdout",
     "output_type": "stream",
     "text": [
      "apple\n"
     ]
    }
   ],
   "source": [
    "#Exit the loop when x is \"banana\", but this time the break comes before the print:\n",
    "fruits = [\"apple\", \"banana\", \"cherry\"]\n",
    "for x in fruits:\n",
    "  if x == \"banana\":\n",
    "    break\n",
    "  print(x)"
   ]
  },
  {
   "cell_type": "code",
   "execution_count": 762,
   "id": "233bb26e-f037-4906-b655-2af42835e042",
   "metadata": {},
   "outputs": [
    {
     "name": "stdout",
     "output_type": "stream",
     "text": [
      "apple\n",
      "cherry\n"
     ]
    }
   ],
   "source": [
    "#With the continue statement we can stop the current iteration of the loop, and continue with the next:\n",
    "fruits = [\"apple\", \"banana\", \"cherry\"]\n",
    "for x in fruits:\n",
    "  if x == \"banana\":\n",
    "    continue\n",
    "  print(x)"
   ]
  },
  {
   "cell_type": "code",
   "execution_count": 764,
   "id": "1dde6cf2-8d24-47fb-a977-9053162bdf73",
   "metadata": {},
   "outputs": [
    {
     "name": "stdout",
     "output_type": "stream",
     "text": [
      "0\n",
      "1\n",
      "2\n",
      "3\n",
      "4\n",
      "5\n"
     ]
    }
   ],
   "source": [
    "#To loop through a set of code a specified number of times, we can use the range() function,\n",
    "#The range() function returns a sequence of numbers, starting from 0 by default, \n",
    "#and increments by 1 (by default), and ends at a specified number.\n",
    "for x in range(6):\n",
    "  print(x)"
   ]
  },
  {
   "cell_type": "code",
   "execution_count": 766,
   "id": "e9129acb-e4b7-4510-8c99-24f07aaa72d1",
   "metadata": {},
   "outputs": [
    {
     "name": "stdout",
     "output_type": "stream",
     "text": [
      "2\n",
      "3\n",
      "4\n",
      "5\n"
     ]
    }
   ],
   "source": [
    "#The range() function defaults to 0 as a starting value, \n",
    "#however it is possible to specify the starting value by adding a parameter: range(2, 6), \n",
    "#which means values from 2 to 6 (but not including 6):\n",
    "for x in range(2, 6):\n",
    "  print(x)"
   ]
  },
  {
   "cell_type": "code",
   "execution_count": 768,
   "id": "860fc30b-6bd0-44f9-aafb-118aec052582",
   "metadata": {},
   "outputs": [
    {
     "name": "stdout",
     "output_type": "stream",
     "text": [
      "2\n",
      "5\n",
      "8\n",
      "11\n",
      "14\n",
      "17\n",
      "20\n",
      "23\n",
      "26\n",
      "29\n"
     ]
    }
   ],
   "source": [
    "#The range() function defaults to increment the sequence by 1, however it is possible to specify \n",
    "#the increment value by adding a third parameter: range(2, 30, 3):\n",
    "for x in range(2, 30, 3):\n",
    "  print(x)"
   ]
  },
  {
   "cell_type": "code",
   "execution_count": 770,
   "id": "8317bf93-3f81-4819-944c-4d3fad24ffd7",
   "metadata": {},
   "outputs": [
    {
     "name": "stdout",
     "output_type": "stream",
     "text": [
      "0\n",
      "1\n",
      "2\n",
      "3\n",
      "4\n",
      "5\n",
      "Finally finished!\n"
     ]
    }
   ],
   "source": [
    "#The else keyword in a for loop specifies a block of code to be executed when the loop is finished:\n",
    "for x in range(6):\n",
    "  print(x)\n",
    "else:\n",
    "  print(\"Finally finished!\")"
   ]
  },
  {
   "cell_type": "code",
   "execution_count": 772,
   "id": "3bb50ed7-9ce8-48be-8cbf-72cdfce5561a",
   "metadata": {},
   "outputs": [
    {
     "name": "stdout",
     "output_type": "stream",
     "text": [
      "0\n",
      "1\n",
      "2\n"
     ]
    }
   ],
   "source": [
    "#Break the loop when x is 3, and see what happens with the else block:\n",
    "for x in range(6):\n",
    "  if x == 3: break\n",
    "  print(x)\n",
    "else:\n",
    "  print(\"Finally finished!\")"
   ]
  },
  {
   "cell_type": "code",
   "execution_count": 774,
   "id": "3f9b6848-5d3c-4d68-be8b-b1d5c5a8b7b1",
   "metadata": {},
   "outputs": [
    {
     "name": "stdout",
     "output_type": "stream",
     "text": [
      "red apple\n",
      "red banana\n",
      "red cherry\n",
      "big apple\n",
      "big banana\n",
      "big cherry\n",
      "tasty apple\n",
      "tasty banana\n",
      "tasty cherry\n"
     ]
    }
   ],
   "source": [
    "#A nested loop is a loop inside a loop.\n",
    "#The \"inner loop\" will be executed one time for each iteration of the \"outer loop\":\n",
    "adj = [\"red\", \"big\", \"tasty\"]\n",
    "fruits = [\"apple\", \"banana\", \"cherry\"]\n",
    "\n",
    "for x in adj:\n",
    "  for y in fruits:\n",
    "    print(x, y)"
   ]
  },
  {
   "cell_type": "code",
   "execution_count": 776,
   "id": "4a05ca16-2773-4e16-891e-82314ecdea9d",
   "metadata": {},
   "outputs": [],
   "source": [
    "#for loops cannot be empty, but if you for some reason have a for loop with no content, \n",
    "#put in the pass statement to avoid getting an error.\n",
    "for x in [0, 1, 2]:\n",
    "  pass"
   ]
  },
  {
   "cell_type": "code",
   "execution_count": null,
   "id": "47aab371-f4f8-4ecb-a68e-3e618d89ad68",
   "metadata": {},
   "outputs": [],
   "source": []
  }
 ],
 "metadata": {
  "kernelspec": {
   "display_name": "Python [conda env:base] *",
   "language": "python",
   "name": "conda-base-py"
  },
  "language_info": {
   "codemirror_mode": {
    "name": "ipython",
    "version": 3
   },
   "file_extension": ".py",
   "mimetype": "text/x-python",
   "name": "python",
   "nbconvert_exporter": "python",
   "pygments_lexer": "ipython3",
   "version": "3.12.7"
  }
 },
 "nbformat": 4,
 "nbformat_minor": 5
}
