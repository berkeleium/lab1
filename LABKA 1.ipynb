{
 "cells": [
  {
   "cell_type": "markdown",
   "id": "7f4a1015-3edb-4f70-9cd0-18df240484e5",
   "metadata": {},
   "source": [
    "1) Python Home"
   ]
  },
  {
   "cell_type": "code",
   "execution_count": 6,
   "id": "709dd734-b3c8-463b-80fa-9abf3e2735ab",
   "metadata": {},
   "outputs": [
    {
     "name": "stdout",
     "output_type": "stream",
     "text": [
      "Eyes chico, they never lie\n"
     ]
    }
   ],
   "source": [
    "print(\"Eyes chico, they never lie\")"
   ]
  },
  {
   "cell_type": "markdown",
   "id": "d52ad5c7-efb0-44ad-8912-7b3fa7a64a3c",
   "metadata": {},
   "source": [
    "2. Python Intro"
   ]
  },
  {
   "cell_type": "code",
   "execution_count": 7,
   "id": "b5380c7f-eafc-4b1b-a731-731be08153c3",
   "metadata": {},
   "outputs": [
    {
     "name": "stdout",
     "output_type": "stream",
     "text": [
      "The World is yours\n"
     ]
    }
   ],
   "source": [
    "print(\"The World is yours\")"
   ]
  },
  {
   "cell_type": "markdown",
   "id": "1aa0fa0e-6feb-4b42-9e76-8af46d23b84d",
   "metadata": {},
   "source": [
    "3. Python get started"
   ]
  },
  {
   "cell_type": "code",
   "execution_count": 9,
   "id": "979fa8d4-729d-4714-851b-332e02dc6e62",
   "metadata": {},
   "outputs": [
    {
     "name": "stdout",
     "output_type": "stream",
     "text": [
      "3.12.7 | packaged by Anaconda, Inc. | (main, Oct  4 2024, 13:17:27) [MSC v.1929 64 bit (AMD64)]\n"
     ]
    }
   ],
   "source": [
    "import sys\n",
    "print(sys.version)"
   ]
  },
  {
   "cell_type": "code",
   "execution_count": 11,
   "id": "93da8048-24ce-4bf7-8503-eb9a7d91d484",
   "metadata": {},
   "outputs": [
    {
     "name": "stdout",
     "output_type": "stream",
     "text": [
      "Ronaldoo, goaalll!\n"
     ]
    }
   ],
   "source": [
    "print(\"Ronaldoo, goaalll!\")"
   ]
  },
  {
   "cell_type": "markdown",
   "id": "14ed020f-d652-4797-8f07-97fcd3666024",
   "metadata": {},
   "source": [
    "4. Python Syntax"
   ]
  },
  {
   "cell_type": "markdown",
   "id": "8c1dfa46-3e57-4cfa-9b7a-71cd430dc9e8",
   "metadata": {},
   "source": [
    " Identation"
   ]
  },
  {
   "cell_type": "code",
   "execution_count": 12,
   "id": "aea73544-f699-459b-962b-ca8ed4c48ce2",
   "metadata": {},
   "outputs": [
    {
     "name": "stdout",
     "output_type": "stream",
     "text": [
      "b is bigger than a\n"
     ]
    }
   ],
   "source": [
    "a = 8\n",
    "b = 9 \n",
    "if b<a:\n",
    "    print(\"a is bigger than b\")\n",
    "else:\n",
    "    print(\"b is bigger than a\")"
   ]
  },
  {
   "cell_type": "markdown",
   "id": "c87e72c4-efa8-4f02-8d20-1f7c40d48073",
   "metadata": {},
   "source": [
    "Variables"
   ]
  },
  {
   "cell_type": "code",
   "execution_count": 14,
   "id": "7aaa4b11-aa3d-45fc-ba01-e812cf679930",
   "metadata": {},
   "outputs": [],
   "source": [
    "a = 21\n",
    "b = \"Berik\""
   ]
  },
  {
   "cell_type": "markdown",
   "id": "876f111b-240b-48ed-8a16-9f7dd6c53b8e",
   "metadata": {},
   "source": [
    "Commenting"
   ]
  },
  {
   "cell_type": "code",
   "execution_count": 80,
   "id": "4b2af141-e417-479d-be44-26160ba0e2ff",
   "metadata": {},
   "outputs": [
    {
     "name": "stdout",
     "output_type": "stream",
     "text": [
      "I have commented\n"
     ]
    }
   ],
   "source": [
    "#in this way, we can comment\n",
    "print(\"I have commented\")"
   ]
  },
  {
   "cell_type": "markdown",
   "id": "d0e94dc0-1c89-4613-ab41-a73280896425",
   "metadata": {},
   "source": [
    "Variable Names"
   ]
  },
  {
   "cell_type": "code",
   "execution_count": 16,
   "id": "922c549f-fb3c-43eb-9cfb-9f86be6f6365",
   "metadata": {},
   "outputs": [],
   "source": [
    "ronaldo = \"goal\"\n",
    "messi = \"goal\"\n",
    "neymar = \"goal\"\n",
    "zidane = \"goal\""
   ]
  },
  {
   "cell_type": "markdown",
   "id": "c70e2e74-5854-43fe-82f2-669650f0dba4",
   "metadata": {},
   "source": [
    "Assigning multiple values"
   ]
  },
  {
   "cell_type": "code",
   "execution_count": 17,
   "id": "25a1096f-b4b6-49c8-8a71-f8a153fed475",
   "metadata": {},
   "outputs": [
    {
     "name": "stdout",
     "output_type": "stream",
     "text": [
      "1 2 3\n"
     ]
    }
   ],
   "source": [
    "a, b, c = 1, 2, 3\n",
    "print(a,b,c)"
   ]
  },
  {
   "cell_type": "code",
   "execution_count": 18,
   "id": "3713ab4a-9768-45a1-9c27-7341130f4fae",
   "metadata": {},
   "outputs": [
    {
     "name": "stdout",
     "output_type": "stream",
     "text": [
      "8 8 8\n"
     ]
    }
   ],
   "source": [
    "a=b=c=8\n",
    "print(a, b, c)"
   ]
  },
  {
   "cell_type": "code",
   "execution_count": 19,
   "id": "0ecc14d6-def0-4385-8567-99f2ae61a3a7",
   "metadata": {},
   "outputs": [
    {
     "name": "stdout",
     "output_type": "stream",
     "text": [
      "22 33 44\n"
     ]
    }
   ],
   "source": [
    "ages = [22, 33 ,44]\n",
    "a, b, c = ages\n",
    "print(a, b ,c)"
   ]
  },
  {
   "cell_type": "markdown",
   "id": "61a38c5f-a55e-4465-a937-4f0ecab458b9",
   "metadata": {},
   "source": [
    "Output variables"
   ]
  },
  {
   "cell_type": "code",
   "execution_count": 20,
   "id": "21f6b837-bf71-430b-a67a-09ddece01748",
   "metadata": {},
   "outputs": [
    {
     "name": "stdout",
     "output_type": "stream",
     "text": [
      "Python is easy\n"
     ]
    }
   ],
   "source": [
    "p = \"Python is easy\"\n",
    "print(p)"
   ]
  },
  {
   "cell_type": "code",
   "execution_count": 21,
   "id": "7e5bc2d5-9735-4375-8f81-5028442ad5dd",
   "metadata": {},
   "outputs": [
    {
     "name": "stdout",
     "output_type": "stream",
     "text": [
      "KBTU is on fire\n"
     ]
    }
   ],
   "source": [
    "a = \"KBTU\"\n",
    "b = \"is on\"\n",
    "c = \"fire\"\n",
    "print(a, b, c)"
   ]
  },
  {
   "cell_type": "code",
   "execution_count": 22,
   "id": "0019437d-837e-406d-9ff1-63cdb32a92dc",
   "metadata": {},
   "outputs": [
    {
     "name": "stdout",
     "output_type": "stream",
     "text": [
      "KBTUis onfire\n"
     ]
    }
   ],
   "source": [
    "a = \"KBTU\"\n",
    "b = \"is on\"\n",
    "c = \"fire\"\n",
    "print(a+b+c)"
   ]
  },
  {
   "cell_type": "code",
   "execution_count": 23,
   "id": "f7d78432-ecc4-485d-96e6-dbe74df9511a",
   "metadata": {},
   "outputs": [
    {
     "name": "stdout",
     "output_type": "stream",
     "text": [
      "KBTU is on fire \n"
     ]
    }
   ],
   "source": [
    "#to avoid slipping words into one, we need to leave some space in the end of quotes like b = \"RONALDOO \"\n",
    "a = \"KBTU \"\n",
    "b = \"is on \"\n",
    "c = \"fire \"\n",
    "print(a+b+c)"
   ]
  },
  {
   "cell_type": "code",
   "execution_count": 24,
   "id": "81a981b3-6518-4c01-ae61-49dbd016f83a",
   "metadata": {},
   "outputs": [
    {
     "name": "stdout",
     "output_type": "stream",
     "text": [
      "8\n"
     ]
    }
   ],
   "source": [
    "#also we can do the same thing with integers, but we cannot combine integers with strings because they have different data types\n",
    "a = 4\n",
    "b = 4\n",
    "print(a+b)"
   ]
  },
  {
   "cell_type": "markdown",
   "id": "a1dc8e4c-a8cb-42b2-895d-99e69cb01c9e",
   "metadata": {},
   "source": [
    "Global variables"
   ]
  },
  {
   "cell_type": "code",
   "execution_count": 25,
   "id": "9f4f2ed6-b054-4c5c-8e09-60b43d591bdd",
   "metadata": {},
   "outputs": [
    {
     "name": "stdout",
     "output_type": "stream",
     "text": [
      "40\n"
     ]
    }
   ],
   "source": [
    "d = 15\n",
    "def func():\n",
    "    print(25 + d)\n",
    "func()"
   ]
  },
  {
   "cell_type": "code",
   "execution_count": 29,
   "id": "f0c90e68-8831-464e-a877-5a951a5fe0cf",
   "metadata": {},
   "outputs": [
    {
     "name": "stdout",
     "output_type": "stream",
     "text": [
      "30\n",
      "8\n"
     ]
    }
   ],
   "source": [
    "d = 4\n",
    "def func():\n",
    "    d = 5\n",
    "    print(25 + d)\n",
    "func()\n",
    "print(d*2)"
   ]
  },
  {
   "cell_type": "code",
   "execution_count": null,
   "id": "5625221f-72e4-43f2-af77-59fb21d1e461",
   "metadata": {},
   "outputs": [],
   "source": [
    "x = \"it is mine\"\t#string\t\n",
    "x = 1\t#integer\t\n",
    "x = 1.5\t#float\t\n",
    "x = 4j\t#complex\t\n",
    "x = [\"men\", \"man\", \"women\"]\t#list\t\n",
    "x = (\"hah\", \"heh\", \"ahaha\")\t#tuple\t\n",
    "x = range(2)\t#range\t\n",
    "x = {\"football\" : \"Ronaldo GOAT\", \"Goals\" : 917}\t#dictionary\t\n",
    "x = {\"joke\", \"xex\", \"pol\"}\t#set\t\n",
    "x = frozenset({\"You?\", \"You?\", \"you talking to me?\"})\t#frozenset\t\n",
    "x = True\t#bool\t\n",
    "x = b\"nechotam\"\t#bytes\t\n",
    "x = bytearray(10)\t#bytearray\t\n",
    "x = memoryview(bytes(5))\t#memoryview\t\n",
    "x = None\t#NoneType"
   ]
  },
  {
   "cell_type": "markdown",
   "id": "70b8d106-4179-41f3-bac3-d60ed47a3b45",
   "metadata": {},
   "source": [
    "Numbers"
   ]
  },
  {
   "cell_type": "code",
   "execution_count": 31,
   "id": "b86ac4ab-e0c9-4c4e-b6d2-930bb0e986e5",
   "metadata": {},
   "outputs": [
    {
     "name": "stdout",
     "output_type": "stream",
     "text": [
      "<class 'int'>  Int, or integer, is a whole number, positive or negative, without decimals, of unlimited length.\n",
      "<class 'complex'>  Complex numbers are written with a (j) as the imaginary part\n",
      "<class 'float'>  Float, or (floating point number) is a number, positive or negative, containing one or more decimals.\n"
     ]
    }
   ],
   "source": [
    "#our output will show all number types in python\n",
    "b = 5\n",
    "a = 4j\n",
    "d = 2.9\n",
    "print(type(b),\" Int, or integer, is a whole number, positive or negative, without decimals, of unlimited length.\")\n",
    "print(type(a), \" Complex numbers are written with a (j) as the imaginary part\")\n",
    "print(type(d), \" Float, or (floating point number) is a number, positive or negative, containing one or more decimals.\")"
   ]
  },
  {
   "cell_type": "code",
   "execution_count": 33,
   "id": "c741fbeb-2f1d-4f06-9be1-99e01d7a8f05",
   "metadata": {},
   "outputs": [
    {
     "name": "stdout",
     "output_type": "stream",
     "text": [
      "5.0 2 (5+0j)\n",
      "<class 'float'>\n",
      "<class 'int'>\n",
      "<class 'complex'>\n"
     ]
    }
   ],
   "source": [
    "b = 5\n",
    "a = 4j\n",
    "d = 2.9\n",
    "x = float(b) #int to float\n",
    "y = int(d) #float to int\n",
    "z = complex(b) #from int to complex, !!! but complex to int isnt possible\n",
    "print(x ,y ,z)\n",
    "print(type(x))\n",
    "print(type(y))\n",
    "print(type(z))"
   ]
  },
  {
   "cell_type": "markdown",
   "id": "5bd244df-bed5-4f10-b3f0-049a759e4201",
   "metadata": {},
   "source": [
    "Random Number"
   ]
  },
  {
   "cell_type": "code",
   "execution_count": 34,
   "id": "f7922016-6339-4128-90f5-a3d72f489f7e",
   "metadata": {},
   "outputs": [
    {
     "name": "stdout",
     "output_type": "stream",
     "text": [
      "9\n",
      "9\n",
      "9\n",
      "7\n",
      "6\n"
     ]
    }
   ],
   "source": [
    "#creating random numbers\n",
    "import random\n",
    "for i in range(5,10):\n",
    "    print(random.randrange(5, 10))"
   ]
  },
  {
   "cell_type": "markdown",
   "id": "b52515c8-96b2-4cbc-837b-56ecca87c3a6",
   "metadata": {},
   "source": [
    "Casting python"
   ]
  },
  {
   "cell_type": "code",
   "execution_count": 41,
   "id": "fb50232e-553d-4df5-b617-17bd503c2450",
   "metadata": {},
   "outputs": [
    {
     "name": "stdout",
     "output_type": "stream",
     "text": [
      "5 3 2\n"
     ]
    }
   ],
   "source": [
    "x = int(5)   # x will be 5\n",
    "y = int(3.9) # y will be 3\n",
    "z = int(\"2\") # z will be 2\n",
    "print(x ,y ,z)"
   ]
  },
  {
   "cell_type": "code",
   "execution_count": 40,
   "id": "ca768c52-6496-4703-b840-bc943d84fb9b",
   "metadata": {},
   "outputs": [
    {
     "name": "stdout",
     "output_type": "stream",
     "text": [
      "5.0 3.9 1.0 1.2\n"
     ]
    }
   ],
   "source": [
    "x = float(5)     # x will be 5.0\n",
    "y = float(3.9)   # y will be 3.9\n",
    "z = float(\"1\")   # z will be 1.0\n",
    "w = float(\"1.2\") # w will be 1.2\n",
    "print(x ,y ,z, w)"
   ]
  },
  {
   "cell_type": "code",
   "execution_count": 44,
   "id": "e1e15463-ae68-4077-9dc0-a6becb13e945",
   "metadata": {},
   "outputs": [
    {
     "name": "stdout",
     "output_type": "stream",
     "text": [
      "kbtu 4 4.0\n"
     ]
    }
   ],
   "source": [
    "x = str(\"kbtu\") # x will be 'kbtu'\n",
    "y = str(4)    # y will be '4'\n",
    "z = str(4.0)  # z will be '4.0'\n",
    "print(x ,y ,z,)"
   ]
  },
  {
   "cell_type": "markdown",
   "id": "06951c2c-ac04-4d13-a0f8-6000d31797c5",
   "metadata": {},
   "source": [
    "Python Strings"
   ]
  },
  {
   "cell_type": "code",
   "execution_count": 45,
   "id": "43ea4fa5-97fd-49a1-b482-1bca5be03be2",
   "metadata": {},
   "outputs": [
    {
     "name": "stdout",
     "output_type": "stream",
     "text": [
      "men\n",
      "men\n"
     ]
    }
   ],
   "source": [
    "print(\"men\")\n",
    "print('men') #are the same"
   ]
  },
  {
   "cell_type": "code",
   "execution_count": 46,
   "id": "b58b95c8-e308-46fe-9e9b-46d96b74f1ac",
   "metadata": {},
   "outputs": [
    {
     "name": "stdout",
     "output_type": "stream",
     "text": [
      "I'm Berik\n",
      "we call him 'GOAT'\n",
      "we call him \"GOAT\"\n"
     ]
    }
   ],
   "source": [
    "#you can use quotes if they`re not matching the surrounding one\n",
    "print(\"I'm Berik\")\n",
    "print(\"we call him 'GOAT'\")\n",
    "print('we call him \"GOAT\"')"
   ]
  },
  {
   "cell_type": "code",
   "execution_count": 56,
   "id": "aad23136-f278-4c46-9204-e7e68e6b5d1c",
   "metadata": {},
   "outputs": [
    {
     "name": "stdout",
     "output_type": "stream",
     "text": [
      "DFILSJFLSIJFLSDJFLKSJFLSKDJFLKSDJLFKDSJFLKDSJFKLSDJFL\n",
      "LFSLKDFMJSLKFDJSLDFJDSL\n",
      "DKFNSLKFDNSLKFSDLN\n",
      "DSFLSLDFJ\n",
      "DFKLSNFLSKDNF\n",
      "KDSFLNL\n",
      "CLGDMLDK\n"
     ]
    }
   ],
   "source": [
    "a = \"\"\"DFILSJFLSIJFLSDJFLKSJFLSKDJFLKSDJLFKDSJFLKDSJFKLSDJFL\n",
    "LFSLKDFMJSLKFDJSLDFJDSL\n",
    "DKFNSLKFDNSLKFSDLN\n",
    "DSFLSLDFJ\n",
    "DFKLSNFLSKDNF\n",
    "KDSFLNL\n",
    "CLGDMLDK\"\"\"\n",
    "print(a)"
   ]
  },
  {
   "cell_type": "code",
   "execution_count": 57,
   "id": "7fb37810-42d2-4e7a-9dc8-284ad7e11e6f",
   "metadata": {},
   "outputs": [
    {
     "name": "stdout",
     "output_type": "stream",
     "text": [
      "A\n",
      "8\n",
      "My name is Slim Shady\n",
      "My name is Slim Shady\n",
      "My name is Slim Shady\n",
      "My name is Slim Shady\n",
      "My name is Slim Shady\n",
      "My name is Slim Shady\n",
      "My name is Slim Shady\n",
      "My name is Slim Shady\n"
     ]
    }
   ],
   "source": [
    "a = \"HAHHAASD\"\n",
    "print(a[1])\n",
    "print(len(a))\n",
    "for i in a:\n",
    "    print(\"My name is Slim Shady\")"
   ]
  },
  {
   "cell_type": "code",
   "execution_count": 59,
   "id": "392e6102-6f96-4061-b72c-3d84c0ef93c1",
   "metadata": {},
   "outputs": [
    {
     "name": "stdout",
     "output_type": "stream",
     "text": [
      "True\n",
      "Sure\n",
      "True\n",
      "39\n"
     ]
    }
   ],
   "source": [
    "txt = \"Cristiano Ronaldo is the best football player in the world\"\n",
    "print(\"Ronaldo\" in txt)\n",
    "if \"is\" in txt:\n",
    "    print(\"Sure\")\n",
    "print(\"Messi\" not in txt)\n",
    "if \"Messi\" not in txt:\n",
    "    print(\"39\")"
   ]
  },
  {
   "cell_type": "code",
   "execution_count": 61,
   "id": "26bfbd50-3e67-4f22-80fd-9fc16503881e",
   "metadata": {},
   "outputs": [
    {
     "name": "stdout",
     "output_type": "stream",
     "text": [
      "HEEHE\n"
     ]
    }
   ],
   "source": [
    "b = \"HEEHEEHA\"\n",
    "print(b[0:5])"
   ]
  },
  {
   "cell_type": "code",
   "execution_count": 62,
   "id": "44f14633-feb6-49f4-b64a-e82bfab2441a",
   "metadata": {},
   "outputs": [
    {
     "name": "stdout",
     "output_type": "stream",
     "text": [
      "HEEHEE\n"
     ]
    }
   ],
   "source": [
    "b = \"HEEHEEHA\"\n",
    "print(b[:6])"
   ]
  },
  {
   "cell_type": "code",
   "execution_count": 63,
   "id": "475a14b2-849d-444c-a09f-98038728bcb2",
   "metadata": {},
   "outputs": [
    {
     "name": "stdout",
     "output_type": "stream",
     "text": [
      "HA\n"
     ]
    }
   ],
   "source": [
    "b = \"HEEHEEHA\"\n",
    "print(b[6:])"
   ]
  },
  {
   "cell_type": "code",
   "execution_count": 64,
   "id": "d76d5ced-641a-4d41-9548-973828f05b72",
   "metadata": {},
   "outputs": [
    {
     "name": "stdout",
     "output_type": "stream",
     "text": [
      "HEE\n"
     ]
    }
   ],
   "source": [
    "b = \"HEEHEEHA\"\n",
    "print(b[-5:-2])"
   ]
  },
  {
   "cell_type": "code",
   "execution_count": 84,
   "id": "48f01ffe-21f0-492e-aeab-dbeb12b6baf4",
   "metadata": {},
   "outputs": [
    {
     "name": "stdout",
     "output_type": "stream",
     "text": [
      "HEEHEEHA\n"
     ]
    }
   ],
   "source": [
    "b = \"heeheeha\"\n",
    "# upper()\tConverts a string into upper case\n",
    "print(b.upper())"
   ]
  },
  {
   "cell_type": "code",
   "execution_count": 85,
   "id": "153413a8-3641-4317-8763-6f389b7b15b2",
   "metadata": {},
   "outputs": [
    {
     "name": "stdout",
     "output_type": "stream",
     "text": [
      "heeheeha\n"
     ]
    }
   ],
   "source": [
    "b = \"HEEHEEHA\"\n",
    "# lower()\tConverts a string into lower case\n",
    "print(b.lower())"
   ]
  },
  {
   "cell_type": "code",
   "execution_count": 82,
   "id": "e9dca6ec-017c-4062-8b2c-3191170c31f6",
   "metadata": {},
   "outputs": [
    {
     "name": "stdout",
     "output_type": "stream",
     "text": [
      "HEEHEEHA\n"
     ]
    }
   ],
   "source": [
    "a = \"        HEEHEEHA                  \"\n",
    "# strip()\tReturns a trimmed version of the string\n",
    "print(a.strip())"
   ]
  },
  {
   "cell_type": "code",
   "execution_count": 83,
   "id": "b5e99b92-3b41-4820-bdfa-b45a794e03d0",
   "metadata": {},
   "outputs": [
    {
     "name": "stdout",
     "output_type": "stream",
     "text": [
      "pamine\n"
     ]
    }
   ],
   "source": [
    "a = \"lamine\"\n",
    "# replace()\tReturns a string where a specified value is replaced with a specified value\n",
    "print(a.replace('l', 'p'))"
   ]
  },
  {
   "cell_type": "code",
   "execution_count": 81,
   "id": "92f9c60a-88d6-46eb-bc58-71bb438d9c50",
   "metadata": {},
   "outputs": [
    {
     "name": "stdout",
     "output_type": "stream",
     "text": [
      "['aye', 'wassup']\n"
     ]
    }
   ],
   "source": [
    "a = \"aye wassup\"\n",
    "# split()\tSplits the string at the specified separator, and returns a list\n",
    "print(a.split())"
   ]
  },
  {
   "cell_type": "code",
   "execution_count": 74,
   "id": "c3e8f17a-16bb-4817-bed5-5dc1e67b794f",
   "metadata": {},
   "outputs": [
    {
     "name": "stdout",
     "output_type": "stream",
     "text": [
      "My name is Berik, I am 18\n"
     ]
    }
   ],
   "source": [
    "age = 18\n",
    "txt = f\"My name is Berik, I am {age}\"\n",
    "print(txt)"
   ]
  },
  {
   "cell_type": "code",
   "execution_count": 76,
   "id": "6bf85775-5be5-4ed9-9268-a820dcc3f94b",
   "metadata": {},
   "outputs": [
    {
     "name": "stdout",
     "output_type": "stream",
     "text": [
      "10.00\n"
     ]
    }
   ],
   "source": [
    "price = 10\n",
    "txt = f\"{price:.2f}\"\n",
    "print(txt)"
   ]
  },
  {
   "cell_type": "code",
   "execution_count": 77,
   "id": "f6f8bdd8-36d2-449e-83e7-0f2193424a33",
   "metadata": {},
   "outputs": [
    {
     "name": "stdout",
     "output_type": "stream",
     "text": [
      "100\n"
     ]
    }
   ],
   "source": [
    "txt = f\"{10**2}\"\n",
    "print(txt)"
   ]
  },
  {
   "cell_type": "code",
   "execution_count": 78,
   "id": "2470abe4-7cd0-4949-8d8c-810a77a9007a",
   "metadata": {},
   "outputs": [
    {
     "name": "stdout",
     "output_type": "stream",
     "text": [
      "Hi, \"friend\" it is me\n"
     ]
    }
   ],
   "source": [
    "txt = \"Hi, \\\"friend\\\" it is me\"\n",
    "print(txt)"
   ]
  },
  {
   "cell_type": "code",
   "execution_count": 79,
   "id": "b782051e-e99b-44c3-922a-403b5914d2e9",
   "metadata": {},
   "outputs": [],
   "source": [
    "#\\'\tSingle Quote\t\n",
    "#\\\\\tBackslash\t\n",
    "#\\n\tNew Line\t\n",
    "#\\r\tCarriage Return\t\n",
    "#\\t\tTab\t\n",
    "#\\b\tBackspace\t\n",
    "#\\f\tForm Feed\t\n",
    "#\\ooo\tOctal value\t\n",
    "#\\xhh\tHex value"
   ]
  },
  {
   "cell_type": "code",
   "execution_count": null,
   "id": "faa3f7af-fb02-42c7-8a35-674170d8b3be",
   "metadata": {},
   "outputs": [],
   "source": [
    "# capitalize()\tConverts the first character to upper case\n",
    "# casefold()\tConverts string into lower case\n",
    "# center()\tReturns a centered string\n",
    "# count()\tReturns the number of times a specified value occurs in a string\n",
    "# encode()\tReturns an encoded version of the string\n",
    "# endswith()\tReturns true if the string ends with the specified value\n",
    "# expandtabs()\tSets the tab size of the string\n",
    "# find()\tSearches the string for a specified value and returns the position of where it was found\n",
    "# format()\tFormats specified values in a string\n",
    "# format_map()\tFormats specified values in a string\n",
    "# index()\tSearches the string for a specified value and returns the position of where it was found\n",
    "# isalnum()\tReturns True if all characters in the string are alphanumeric\n",
    "# isalpha()\tReturns True if all characters in the string are in the alphabet\n",
    "# isascii()\tReturns True if all characters in the string are ascii characters\n",
    "# isdecimal()\tReturns True if all characters in the string are decimals\n",
    "# isdigit()\tReturns True if all characters in the string are digits\n",
    "# isidentifier()\tReturns True if the string is an identifier\n",
    "# islower()\tReturns True if all characters in the string are lower case\n",
    "# isnumeric()\tReturns True if all characters in the string are numeric\n",
    "# isprintable()\tReturns True if all characters in the string are printable\n",
    "# isspace()\tReturns True if all characters in the string are whitespaces\n",
    "# istitle()\tReturns True if the string follows the rules of a title\n",
    "# isupper()\tReturns True if all characters in the string are upper case\n",
    "# join()\tJoins the elements of an iterable to the end of the string\n",
    "# ljust()\tReturns a left justified version of the string\n",
    "# lower()\tConverts a string into lower case\n",
    "# lstrip()\tReturns a left trim version of the string\n",
    "# maketrans()\tReturns a translation table to be used in translations\n",
    "# partition()\tReturns a tuple where the string is parted into three parts\n",
    "# replace()\tReturns a string where a specified value is replaced with a specified value\n",
    "# rfind()\tSearches the string for a specified value and returns the last position of where it was found\n",
    "# rindex()\tSearches the string for a specified value and returns the last position of where it was found\n",
    "# rjust()\tReturns a right justified version of the string\n",
    "# rpartition()\tReturns a tuple where the string is parted into three parts\n",
    "# rsplit()\tSplits the string at the specified separator, and returns a list\n",
    "# rstrip()\tReturns a right trim version of the string\n",
    "# split()\tSplits the string at the specified separator, and returns a list\n",
    "# splitlines()\tSplits the string at line breaks and returns a list\n",
    "# startswith()\tReturns true if the string starts with the specified value\n",
    "# strip()\tReturns a trimmed version of the string\n",
    "# swapcase()\tSwaps cases, lower case becomes upper case and vice versa\n",
    "# title()\tConverts the first character of each word to upper case\n",
    "# translate()\tReturns a translated string\n",
    "# upper()\tConverts a string into upper case\n",
    "# zfill()\tFills the string with a specified number of 0 values at the beginning"
   ]
  }
 ],
 "metadata": {
  "kernelspec": {
   "display_name": "Python 3 (ipykernel)",
   "language": "python",
   "name": "python3"
  },
  "language_info": {
   "codemirror_mode": {
    "name": "ipython",
    "version": 3
   },
   "file_extension": ".py",
   "mimetype": "text/x-python",
   "name": "python",
   "nbconvert_exporter": "python",
   "pygments_lexer": "ipython3",
   "version": "3.12.7"
  }
 },
 "nbformat": 4,
 "nbformat_minor": 5
}
